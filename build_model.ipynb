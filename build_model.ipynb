{
 "cells": [
  {
   "cell_type": "code",
   "execution_count": 1,
   "metadata": {
    "colab": {
     "base_uri": "https://localhost:8080/",
     "height": 206
    },
    "id": "QLLqXaeGZZtp",
    "outputId": "4d80753c-428b-42c9-b09f-d501afca8e72"
   },
   "outputs": [
    {
     "data": {
      "text/html": [
       "\n",
       "  <div id=\"df-cc07b88b-af27-4d55-94ce-8992e6fe2b44\">\n",
       "    <div class=\"colab-df-container\">\n",
       "      <div>\n",
       "<style scoped>\n",
       "    .dataframe tbody tr th:only-of-type {\n",
       "        vertical-align: middle;\n",
       "    }\n",
       "\n",
       "    .dataframe tbody tr th {\n",
       "        vertical-align: top;\n",
       "    }\n",
       "\n",
       "    .dataframe thead th {\n",
       "        text-align: right;\n",
       "    }\n",
       "</style>\n",
       "<table border=\"1\" class=\"dataframe\">\n",
       "  <thead>\n",
       "    <tr style=\"text-align: right;\">\n",
       "      <th></th>\n",
       "      <th>index</th>\n",
       "      <th>Phrase</th>\n",
       "      <th>Cognitive Distortion</th>\n",
       "    </tr>\n",
       "  </thead>\n",
       "  <tbody>\n",
       "    <tr>\n",
       "      <th>0</th>\n",
       "      <td>553</td>\n",
       "      <td>The world is a terrible place but we can impro...</td>\n",
       "      <td>No</td>\n",
       "    </tr>\n",
       "    <tr>\n",
       "      <th>1</th>\n",
       "      <td>492</td>\n",
       "      <td>I am unlovable</td>\n",
       "      <td>Global Labelling</td>\n",
       "    </tr>\n",
       "    <tr>\n",
       "      <th>2</th>\n",
       "      <td>503</td>\n",
       "      <td>I must lose weight to look better</td>\n",
       "      <td>Shoulds</td>\n",
       "    </tr>\n",
       "    <tr>\n",
       "      <th>3</th>\n",
       "      <td>410</td>\n",
       "      <td>You can't help but feel fat, even though your ...</td>\n",
       "      <td>Emotional Reasoning</td>\n",
       "    </tr>\n",
       "    <tr>\n",
       "      <th>4</th>\n",
       "      <td>345</td>\n",
       "      <td>Assuming that because I didn't get along with ...</td>\n",
       "      <td>Jumping to Conclusions</td>\n",
       "    </tr>\n",
       "  </tbody>\n",
       "</table>\n",
       "</div>\n",
       "      <button class=\"colab-df-convert\" onclick=\"convertToInteractive('df-cc07b88b-af27-4d55-94ce-8992e6fe2b44')\"\n",
       "              title=\"Convert this dataframe to an interactive table.\"\n",
       "              style=\"display:none;\">\n",
       "        \n",
       "  <svg xmlns=\"http://www.w3.org/2000/svg\" height=\"24px\"viewBox=\"0 0 24 24\"\n",
       "       width=\"24px\">\n",
       "    <path d=\"M0 0h24v24H0V0z\" fill=\"none\"/>\n",
       "    <path d=\"M18.56 5.44l.94 2.06.94-2.06 2.06-.94-2.06-.94-.94-2.06-.94 2.06-2.06.94zm-11 1L8.5 8.5l.94-2.06 2.06-.94-2.06-.94L8.5 2.5l-.94 2.06-2.06.94zm10 10l.94 2.06.94-2.06 2.06-.94-2.06-.94-.94-2.06-.94 2.06-2.06.94z\"/><path d=\"M17.41 7.96l-1.37-1.37c-.4-.4-.92-.59-1.43-.59-.52 0-1.04.2-1.43.59L10.3 9.45l-7.72 7.72c-.78.78-.78 2.05 0 2.83L4 21.41c.39.39.9.59 1.41.59.51 0 1.02-.2 1.41-.59l7.78-7.78 2.81-2.81c.8-.78.8-2.07 0-2.86zM5.41 20L4 18.59l7.72-7.72 1.47 1.35L5.41 20z\"/>\n",
       "  </svg>\n",
       "      </button>\n",
       "      \n",
       "  <style>\n",
       "    .colab-df-container {\n",
       "      display:flex;\n",
       "      flex-wrap:wrap;\n",
       "      gap: 12px;\n",
       "    }\n",
       "\n",
       "    .colab-df-convert {\n",
       "      background-color: #E8F0FE;\n",
       "      border: none;\n",
       "      border-radius: 50%;\n",
       "      cursor: pointer;\n",
       "      display: none;\n",
       "      fill: #1967D2;\n",
       "      height: 32px;\n",
       "      padding: 0 0 0 0;\n",
       "      width: 32px;\n",
       "    }\n",
       "\n",
       "    .colab-df-convert:hover {\n",
       "      background-color: #E2EBFA;\n",
       "      box-shadow: 0px 1px 2px rgba(60, 64, 67, 0.3), 0px 1px 3px 1px rgba(60, 64, 67, 0.15);\n",
       "      fill: #174EA6;\n",
       "    }\n",
       "\n",
       "    [theme=dark] .colab-df-convert {\n",
       "      background-color: #3B4455;\n",
       "      fill: #D2E3FC;\n",
       "    }\n",
       "\n",
       "    [theme=dark] .colab-df-convert:hover {\n",
       "      background-color: #434B5C;\n",
       "      box-shadow: 0px 1px 3px 1px rgba(0, 0, 0, 0.15);\n",
       "      filter: drop-shadow(0px 1px 2px rgba(0, 0, 0, 0.3));\n",
       "      fill: #FFFFFF;\n",
       "    }\n",
       "  </style>\n",
       "\n",
       "      <script>\n",
       "        const buttonEl =\n",
       "          document.querySelector('#df-cc07b88b-af27-4d55-94ce-8992e6fe2b44 button.colab-df-convert');\n",
       "        buttonEl.style.display =\n",
       "          google.colab.kernel.accessAllowed ? 'block' : 'none';\n",
       "\n",
       "        async function convertToInteractive(key) {\n",
       "          const element = document.querySelector('#df-cc07b88b-af27-4d55-94ce-8992e6fe2b44');\n",
       "          const dataTable =\n",
       "            await google.colab.kernel.invokeFunction('convertToInteractive',\n",
       "                                                     [key], {});\n",
       "          if (!dataTable) return;\n",
       "\n",
       "          const docLinkHtml = 'Like what you see? Visit the ' +\n",
       "            '<a target=\"_blank\" href=https://colab.research.google.com/notebooks/data_table.ipynb>data table notebook</a>'\n",
       "            + ' to learn more about interactive tables.';\n",
       "          element.innerHTML = '';\n",
       "          dataTable['output_type'] = 'display_data';\n",
       "          await google.colab.output.renderOutput(dataTable, element);\n",
       "          const docLink = document.createElement('div');\n",
       "          docLink.innerHTML = docLinkHtml;\n",
       "          element.appendChild(docLink);\n",
       "        }\n",
       "      </script>\n",
       "    </div>\n",
       "  </div>\n",
       "  "
      ],
      "text/plain": [
       "   index                                             Phrase  \\\n",
       "0    553  The world is a terrible place but we can impro...   \n",
       "1    492                                     I am unlovable   \n",
       "2    503                  I must lose weight to look better   \n",
       "3    410  You can't help but feel fat, even though your ...   \n",
       "4    345  Assuming that because I didn't get along with ...   \n",
       "\n",
       "     Cognitive Distortion  \n",
       "0                      No  \n",
       "1        Global Labelling  \n",
       "2                 Shoulds  \n",
       "3     Emotional Reasoning  \n",
       "4  Jumping to Conclusions  "
      ]
     },
     "execution_count": 1,
     "metadata": {},
     "output_type": "execute_result"
    }
   ],
   "source": [
    "import pandas as pd\n",
    "\n",
    "link = \"https://raw.githubusercontent.com/GomathiL/Hacklytics23-Angela/main/Dataset_Cognitive_Distortions.tsv\"\n",
    "\n",
    "from sklearn.utils import shuffle\n",
    "df = shuffle(pd.read_table(link)).reset_index()\n",
    "df.head()"
   ]
  },
  {
   "cell_type": "code",
   "execution_count": 2,
   "metadata": {
    "id": "1EyQDacEeFd9"
   },
   "outputs": [],
   "source": [
    "df.rename(columns = {'Phrase':'text', 'Cognitive Distortion':'label'}, inplace = True)"
   ]
  },
  {
   "cell_type": "code",
   "execution_count": 3,
   "metadata": {
    "colab": {
     "base_uri": "https://localhost:8080/"
    },
    "id": "I-nvl2SeeGG5",
    "outputId": "7826ed44-437f-4cbe-9069-c2e5c38814b4"
   },
   "outputs": [
    {
     "data": {
      "text/plain": [
       "No                         0.089076\n",
       "Shoulds                    0.082353\n",
       "Emotional Reasoning        0.080672\n",
       "Jumping to Conclusions     0.078992\n",
       "Heaven's Reward Fallacy    0.073950\n",
       "Control Fallacies          0.068908\n",
       "Overgeneralization         0.067227\n",
       "Polarized                  0.067227\n",
       "Filtering                  0.065546\n",
       "Catastrophizing            0.060504\n",
       "Global Labelling           0.050420\n",
       "Fallacy Of Fairness        0.050420\n",
       "Fallacy Of Change          0.047059\n",
       "Personalization            0.045378\n",
       "Blaming                    0.038655\n",
       "Always Being Right         0.033613\n",
       "Name: label, dtype: float64"
      ]
     },
     "execution_count": 3,
     "metadata": {},
     "output_type": "execute_result"
    }
   ],
   "source": [
    "df['label'].value_counts(normalize = True)"
   ]
  },
  {
   "cell_type": "code",
   "execution_count": 4,
   "metadata": {
    "id": "4f2bXy_TeOZz"
   },
   "outputs": [],
   "source": [
    "#Convert Categorical Variables in the 'Cognitive Distortion' column to Numerical Variables\n",
    "\n",
    "from sklearn import preprocessing\n",
    "\n",
    "label_encoder = preprocessing.LabelEncoder()\n",
    "  \n",
    "df['label']= label_encoder.fit_transform(df['label'])"
   ]
  },
  {
   "cell_type": "code",
   "execution_count": 5,
   "metadata": {
    "colab": {
     "base_uri": "https://localhost:8080/"
    },
    "id": "Yj9UNC35eRMP",
    "outputId": "04699c6b-ef87-4db7-d175-d2c025c7e135"
   },
   "outputs": [
    {
     "data": {
      "text/plain": [
       "11    0.089076\n",
       "15    0.082353\n",
       "4     0.080672\n",
       "10    0.078992\n",
       "9     0.073950\n",
       "3     0.068908\n",
       "12    0.067227\n",
       "14    0.067227\n",
       "7     0.065546\n",
       "2     0.060504\n",
       "8     0.050420\n",
       "6     0.050420\n",
       "5     0.047059\n",
       "13    0.045378\n",
       "1     0.038655\n",
       "0     0.033613\n",
       "Name: label, dtype: float64"
      ]
     },
     "execution_count": 5,
     "metadata": {},
     "output_type": "execute_result"
    }
   ],
   "source": [
    "#Check Class Distribution\n",
    "df['label'].value_counts(normalize = True)"
   ]
  },
  {
   "cell_type": "code",
   "execution_count": 6,
   "metadata": {
    "id": "nbbTpctaeWAb"
   },
   "outputs": [],
   "source": [
    "df = df.replace({'label' : { 1 : 0, 2 : 0, 3 : 0, 4 : 0, 5 : 0, 6 : 0, 7 : 0, 8 : 0, 9 : 0, 10 : 0, 12 : 0, 13 : 0, 14 : 0, 15 : 0, 11: 1}})"
   ]
  },
  {
   "cell_type": "code",
   "execution_count": 7,
   "metadata": {
    "colab": {
     "base_uri": "https://localhost:8080/"
    },
    "id": "KqgKatXOeY8y",
    "outputId": "92c07b29-f7e9-4d24-d2b4-6bad869b40b1"
   },
   "outputs": [
    {
     "data": {
      "text/plain": [
       "0    0.910924\n",
       "1    0.089076\n",
       "Name: label, dtype: float64"
      ]
     },
     "execution_count": 7,
     "metadata": {},
     "output_type": "execute_result"
    }
   ],
   "source": [
    "df['label'].value_counts(normalize = True)"
   ]
  },
  {
   "cell_type": "code",
   "execution_count": 8,
   "metadata": {
    "colab": {
     "base_uri": "https://localhost:8080/",
     "height": 206
    },
    "id": "Oo89y2ZwemAq",
    "outputId": "2903fddd-1865-4e2b-85b8-7979abfc9e1d"
   },
   "outputs": [
    {
     "data": {
      "text/html": [
       "\n",
       "  <div id=\"df-1f627a8d-1c6b-4153-8179-8ef58b693e10\">\n",
       "    <div class=\"colab-df-container\">\n",
       "      <div>\n",
       "<style scoped>\n",
       "    .dataframe tbody tr th:only-of-type {\n",
       "        vertical-align: middle;\n",
       "    }\n",
       "\n",
       "    .dataframe tbody tr th {\n",
       "        vertical-align: top;\n",
       "    }\n",
       "\n",
       "    .dataframe thead th {\n",
       "        text-align: right;\n",
       "    }\n",
       "</style>\n",
       "<table border=\"1\" class=\"dataframe\">\n",
       "  <thead>\n",
       "    <tr style=\"text-align: right;\">\n",
       "      <th></th>\n",
       "      <th>index</th>\n",
       "      <th>text</th>\n",
       "      <th>label</th>\n",
       "    </tr>\n",
       "  </thead>\n",
       "  <tbody>\n",
       "    <tr>\n",
       "      <th>0</th>\n",
       "      <td>553</td>\n",
       "      <td>The world is a terrible place but we can impro...</td>\n",
       "      <td>1</td>\n",
       "    </tr>\n",
       "    <tr>\n",
       "      <th>1</th>\n",
       "      <td>492</td>\n",
       "      <td>I am unlovable</td>\n",
       "      <td>0</td>\n",
       "    </tr>\n",
       "    <tr>\n",
       "      <th>2</th>\n",
       "      <td>503</td>\n",
       "      <td>I must lose weight to look better</td>\n",
       "      <td>0</td>\n",
       "    </tr>\n",
       "    <tr>\n",
       "      <th>3</th>\n",
       "      <td>410</td>\n",
       "      <td>You can't help but feel fat, even though your ...</td>\n",
       "      <td>0</td>\n",
       "    </tr>\n",
       "    <tr>\n",
       "      <th>4</th>\n",
       "      <td>345</td>\n",
       "      <td>Assuming that because I didn't get along with ...</td>\n",
       "      <td>0</td>\n",
       "    </tr>\n",
       "  </tbody>\n",
       "</table>\n",
       "</div>\n",
       "      <button class=\"colab-df-convert\" onclick=\"convertToInteractive('df-1f627a8d-1c6b-4153-8179-8ef58b693e10')\"\n",
       "              title=\"Convert this dataframe to an interactive table.\"\n",
       "              style=\"display:none;\">\n",
       "        \n",
       "  <svg xmlns=\"http://www.w3.org/2000/svg\" height=\"24px\"viewBox=\"0 0 24 24\"\n",
       "       width=\"24px\">\n",
       "    <path d=\"M0 0h24v24H0V0z\" fill=\"none\"/>\n",
       "    <path d=\"M18.56 5.44l.94 2.06.94-2.06 2.06-.94-2.06-.94-.94-2.06-.94 2.06-2.06.94zm-11 1L8.5 8.5l.94-2.06 2.06-.94-2.06-.94L8.5 2.5l-.94 2.06-2.06.94zm10 10l.94 2.06.94-2.06 2.06-.94-2.06-.94-.94-2.06-.94 2.06-2.06.94z\"/><path d=\"M17.41 7.96l-1.37-1.37c-.4-.4-.92-.59-1.43-.59-.52 0-1.04.2-1.43.59L10.3 9.45l-7.72 7.72c-.78.78-.78 2.05 0 2.83L4 21.41c.39.39.9.59 1.41.59.51 0 1.02-.2 1.41-.59l7.78-7.78 2.81-2.81c.8-.78.8-2.07 0-2.86zM5.41 20L4 18.59l7.72-7.72 1.47 1.35L5.41 20z\"/>\n",
       "  </svg>\n",
       "      </button>\n",
       "      \n",
       "  <style>\n",
       "    .colab-df-container {\n",
       "      display:flex;\n",
       "      flex-wrap:wrap;\n",
       "      gap: 12px;\n",
       "    }\n",
       "\n",
       "    .colab-df-convert {\n",
       "      background-color: #E8F0FE;\n",
       "      border: none;\n",
       "      border-radius: 50%;\n",
       "      cursor: pointer;\n",
       "      display: none;\n",
       "      fill: #1967D2;\n",
       "      height: 32px;\n",
       "      padding: 0 0 0 0;\n",
       "      width: 32px;\n",
       "    }\n",
       "\n",
       "    .colab-df-convert:hover {\n",
       "      background-color: #E2EBFA;\n",
       "      box-shadow: 0px 1px 2px rgba(60, 64, 67, 0.3), 0px 1px 3px 1px rgba(60, 64, 67, 0.15);\n",
       "      fill: #174EA6;\n",
       "    }\n",
       "\n",
       "    [theme=dark] .colab-df-convert {\n",
       "      background-color: #3B4455;\n",
       "      fill: #D2E3FC;\n",
       "    }\n",
       "\n",
       "    [theme=dark] .colab-df-convert:hover {\n",
       "      background-color: #434B5C;\n",
       "      box-shadow: 0px 1px 3px 1px rgba(0, 0, 0, 0.15);\n",
       "      filter: drop-shadow(0px 1px 2px rgba(0, 0, 0, 0.3));\n",
       "      fill: #FFFFFF;\n",
       "    }\n",
       "  </style>\n",
       "\n",
       "      <script>\n",
       "        const buttonEl =\n",
       "          document.querySelector('#df-1f627a8d-1c6b-4153-8179-8ef58b693e10 button.colab-df-convert');\n",
       "        buttonEl.style.display =\n",
       "          google.colab.kernel.accessAllowed ? 'block' : 'none';\n",
       "\n",
       "        async function convertToInteractive(key) {\n",
       "          const element = document.querySelector('#df-1f627a8d-1c6b-4153-8179-8ef58b693e10');\n",
       "          const dataTable =\n",
       "            await google.colab.kernel.invokeFunction('convertToInteractive',\n",
       "                                                     [key], {});\n",
       "          if (!dataTable) return;\n",
       "\n",
       "          const docLinkHtml = 'Like what you see? Visit the ' +\n",
       "            '<a target=\"_blank\" href=https://colab.research.google.com/notebooks/data_table.ipynb>data table notebook</a>'\n",
       "            + ' to learn more about interactive tables.';\n",
       "          element.innerHTML = '';\n",
       "          dataTable['output_type'] = 'display_data';\n",
       "          await google.colab.output.renderOutput(dataTable, element);\n",
       "          const docLink = document.createElement('div');\n",
       "          docLink.innerHTML = docLinkHtml;\n",
       "          element.appendChild(docLink);\n",
       "        }\n",
       "      </script>\n",
       "    </div>\n",
       "  </div>\n",
       "  "
      ],
      "text/plain": [
       "   index                                               text  label\n",
       "0    553  The world is a terrible place but we can impro...      1\n",
       "1    492                                     I am unlovable      0\n",
       "2    503                  I must lose weight to look better      0\n",
       "3    410  You can't help but feel fat, even though your ...      0\n",
       "4    345  Assuming that because I didn't get along with ...      0"
      ]
     },
     "execution_count": 8,
     "metadata": {},
     "output_type": "execute_result"
    }
   ],
   "source": [
    "df.head()"
   ]
  },
  {
   "cell_type": "code",
   "execution_count": 9,
   "metadata": {
    "colab": {
     "base_uri": "https://localhost:8080/",
     "height": 206
    },
    "id": "L8SnuZwnepEf",
    "outputId": "35b2b503-be66-4212-fd59-7573b614fd44"
   },
   "outputs": [
    {
     "data": {
      "text/html": [
       "\n",
       "  <div id=\"df-86c57fdf-6bd8-4af8-a4c3-b80b92181d7c\">\n",
       "    <div class=\"colab-df-container\">\n",
       "      <div>\n",
       "<style scoped>\n",
       "    .dataframe tbody tr th:only-of-type {\n",
       "        vertical-align: middle;\n",
       "    }\n",
       "\n",
       "    .dataframe tbody tr th {\n",
       "        vertical-align: top;\n",
       "    }\n",
       "\n",
       "    .dataframe thead th {\n",
       "        text-align: right;\n",
       "    }\n",
       "</style>\n",
       "<table border=\"1\" class=\"dataframe\">\n",
       "  <thead>\n",
       "    <tr style=\"text-align: right;\">\n",
       "      <th></th>\n",
       "      <th>index</th>\n",
       "      <th>Unnamed: 0</th>\n",
       "      <th>id_str</th>\n",
       "      <th>text</th>\n",
       "      <th>created_at</th>\n",
       "      <th>polarity</th>\n",
       "      <th>user_location</th>\n",
       "    </tr>\n",
       "  </thead>\n",
       "  <tbody>\n",
       "    <tr>\n",
       "      <th>0</th>\n",
       "      <td>539</td>\n",
       "      <td>539</td>\n",
       "      <td>1161744071939018752</td>\n",
       "      <td>Inspiring. Great Greta https://t.co/AWCKzh0NC9</td>\n",
       "      <td>2019-08-14 20:59:05</td>\n",
       "      <td>1</td>\n",
       "      <td>Maryland</td>\n",
       "    </tr>\n",
       "    <tr>\n",
       "      <th>1</th>\n",
       "      <td>1684</td>\n",
       "      <td>1684</td>\n",
       "      <td>1161744881859092481</td>\n",
       "      <td>Please send STOP to Liverpool to prevent Chels...</td>\n",
       "      <td>2019-08-14 21:02:18</td>\n",
       "      <td>0</td>\n",
       "      <td>Cape Coast, Ghana</td>\n",
       "    </tr>\n",
       "    <tr>\n",
       "      <th>2</th>\n",
       "      <td>2035</td>\n",
       "      <td>2035</td>\n",
       "      <td>1161745151963930625</td>\n",
       "      <td>RT @btsworldwider: Fandoms are the ones who br...</td>\n",
       "      <td>2019-08-14 21:03:23</td>\n",
       "      <td>1</td>\n",
       "      <td>NaN</td>\n",
       "    </tr>\n",
       "    <tr>\n",
       "      <th>3</th>\n",
       "      <td>343</td>\n",
       "      <td>343</td>\n",
       "      <td>1161743928032419841</td>\n",
       "      <td>RT @c_love888: Tom Watson voting report comple...</td>\n",
       "      <td>2019-08-14 20:58:31</td>\n",
       "      <td>0</td>\n",
       "      <td>NaN</td>\n",
       "    </tr>\n",
       "    <tr>\n",
       "      <th>4</th>\n",
       "      <td>909</td>\n",
       "      <td>909</td>\n",
       "      <td>1161744322829664265</td>\n",
       "      <td>RT @w_terrence: Thank yall for sticking up for...</td>\n",
       "      <td>2019-08-14 21:00:05</td>\n",
       "      <td>0</td>\n",
       "      <td>NaN</td>\n",
       "    </tr>\n",
       "  </tbody>\n",
       "</table>\n",
       "</div>\n",
       "      <button class=\"colab-df-convert\" onclick=\"convertToInteractive('df-86c57fdf-6bd8-4af8-a4c3-b80b92181d7c')\"\n",
       "              title=\"Convert this dataframe to an interactive table.\"\n",
       "              style=\"display:none;\">\n",
       "        \n",
       "  <svg xmlns=\"http://www.w3.org/2000/svg\" height=\"24px\"viewBox=\"0 0 24 24\"\n",
       "       width=\"24px\">\n",
       "    <path d=\"M0 0h24v24H0V0z\" fill=\"none\"/>\n",
       "    <path d=\"M18.56 5.44l.94 2.06.94-2.06 2.06-.94-2.06-.94-.94-2.06-.94 2.06-2.06.94zm-11 1L8.5 8.5l.94-2.06 2.06-.94-2.06-.94L8.5 2.5l-.94 2.06-2.06.94zm10 10l.94 2.06.94-2.06 2.06-.94-2.06-.94-.94-2.06-.94 2.06-2.06.94z\"/><path d=\"M17.41 7.96l-1.37-1.37c-.4-.4-.92-.59-1.43-.59-.52 0-1.04.2-1.43.59L10.3 9.45l-7.72 7.72c-.78.78-.78 2.05 0 2.83L4 21.41c.39.39.9.59 1.41.59.51 0 1.02-.2 1.41-.59l7.78-7.78 2.81-2.81c.8-.78.8-2.07 0-2.86zM5.41 20L4 18.59l7.72-7.72 1.47 1.35L5.41 20z\"/>\n",
       "  </svg>\n",
       "      </button>\n",
       "      \n",
       "  <style>\n",
       "    .colab-df-container {\n",
       "      display:flex;\n",
       "      flex-wrap:wrap;\n",
       "      gap: 12px;\n",
       "    }\n",
       "\n",
       "    .colab-df-convert {\n",
       "      background-color: #E8F0FE;\n",
       "      border: none;\n",
       "      border-radius: 50%;\n",
       "      cursor: pointer;\n",
       "      display: none;\n",
       "      fill: #1967D2;\n",
       "      height: 32px;\n",
       "      padding: 0 0 0 0;\n",
       "      width: 32px;\n",
       "    }\n",
       "\n",
       "    .colab-df-convert:hover {\n",
       "      background-color: #E2EBFA;\n",
       "      box-shadow: 0px 1px 2px rgba(60, 64, 67, 0.3), 0px 1px 3px 1px rgba(60, 64, 67, 0.15);\n",
       "      fill: #174EA6;\n",
       "    }\n",
       "\n",
       "    [theme=dark] .colab-df-convert {\n",
       "      background-color: #3B4455;\n",
       "      fill: #D2E3FC;\n",
       "    }\n",
       "\n",
       "    [theme=dark] .colab-df-convert:hover {\n",
       "      background-color: #434B5C;\n",
       "      box-shadow: 0px 1px 3px 1px rgba(0, 0, 0, 0.15);\n",
       "      filter: drop-shadow(0px 1px 2px rgba(0, 0, 0, 0.3));\n",
       "      fill: #FFFFFF;\n",
       "    }\n",
       "  </style>\n",
       "\n",
       "      <script>\n",
       "        const buttonEl =\n",
       "          document.querySelector('#df-86c57fdf-6bd8-4af8-a4c3-b80b92181d7c button.colab-df-convert');\n",
       "        buttonEl.style.display =\n",
       "          google.colab.kernel.accessAllowed ? 'block' : 'none';\n",
       "\n",
       "        async function convertToInteractive(key) {\n",
       "          const element = document.querySelector('#df-86c57fdf-6bd8-4af8-a4c3-b80b92181d7c');\n",
       "          const dataTable =\n",
       "            await google.colab.kernel.invokeFunction('convertToInteractive',\n",
       "                                                     [key], {});\n",
       "          if (!dataTable) return;\n",
       "\n",
       "          const docLinkHtml = 'Like what you see? Visit the ' +\n",
       "            '<a target=\"_blank\" href=https://colab.research.google.com/notebooks/data_table.ipynb>data table notebook</a>'\n",
       "            + ' to learn more about interactive tables.';\n",
       "          element.innerHTML = '';\n",
       "          dataTable['output_type'] = 'display_data';\n",
       "          await google.colab.output.renderOutput(dataTable, element);\n",
       "          const docLink = document.createElement('div');\n",
       "          docLink.innerHTML = docLinkHtml;\n",
       "          element.appendChild(docLink);\n",
       "        }\n",
       "      </script>\n",
       "    </div>\n",
       "  </div>\n",
       "  "
      ],
      "text/plain": [
       "   index  Unnamed: 0               id_str  \\\n",
       "0    539         539  1161744071939018752   \n",
       "1   1684        1684  1161744881859092481   \n",
       "2   2035        2035  1161745151963930625   \n",
       "3    343         343  1161743928032419841   \n",
       "4    909         909  1161744322829664265   \n",
       "\n",
       "                                                text           created_at  \\\n",
       "0     Inspiring. Great Greta https://t.co/AWCKzh0NC9  2019-08-14 20:59:05   \n",
       "1  Please send STOP to Liverpool to prevent Chels...  2019-08-14 21:02:18   \n",
       "2  RT @btsworldwider: Fandoms are the ones who br...  2019-08-14 21:03:23   \n",
       "3  RT @c_love888: Tom Watson voting report comple...  2019-08-14 20:58:31   \n",
       "4  RT @w_terrence: Thank yall for sticking up for...  2019-08-14 21:00:05   \n",
       "\n",
       "   polarity      user_location  \n",
       "0         1           Maryland  \n",
       "1         0  Cape Coast, Ghana  \n",
       "2         1                NaN  \n",
       "3         0                NaN  \n",
       "4         0                NaN  "
      ]
     },
     "execution_count": 9,
     "metadata": {},
     "output_type": "execute_result"
    }
   ],
   "source": [
    "url = \"https://raw.githubusercontent.com/GomathiL/Hacklytics23-Angela/main/twitter_data.csv\"\n",
    "from sklearn.utils import shuffle\n",
    "df1 = shuffle(pd.read_csv(url)).reset_index()\n",
    "df1.head()"
   ]
  },
  {
   "cell_type": "code",
   "execution_count": 10,
   "metadata": {
    "colab": {
     "base_uri": "https://localhost:8080/",
     "height": 206
    },
    "id": "TPSE2xxOhFjP",
    "outputId": "faa852e7-c988-43a8-b3c0-810a5c907cf7"
   },
   "outputs": [
    {
     "data": {
      "text/html": [
       "\n",
       "  <div id=\"df-9d4b611b-aed9-4421-b6b9-04bd43aa599d\">\n",
       "    <div class=\"colab-df-container\">\n",
       "      <div>\n",
       "<style scoped>\n",
       "    .dataframe tbody tr th:only-of-type {\n",
       "        vertical-align: middle;\n",
       "    }\n",
       "\n",
       "    .dataframe tbody tr th {\n",
       "        vertical-align: top;\n",
       "    }\n",
       "\n",
       "    .dataframe thead th {\n",
       "        text-align: right;\n",
       "    }\n",
       "</style>\n",
       "<table border=\"1\" class=\"dataframe\">\n",
       "  <thead>\n",
       "    <tr style=\"text-align: right;\">\n",
       "      <th></th>\n",
       "      <th>index</th>\n",
       "      <th>Unnamed: 0</th>\n",
       "      <th>id_str</th>\n",
       "      <th>text</th>\n",
       "      <th>created_at</th>\n",
       "      <th>polarity</th>\n",
       "      <th>user_location</th>\n",
       "    </tr>\n",
       "  </thead>\n",
       "  <tbody>\n",
       "    <tr>\n",
       "      <th>0</th>\n",
       "      <td>539</td>\n",
       "      <td>539</td>\n",
       "      <td>1161744071939018752</td>\n",
       "      <td>Inspiring. Great Greta https://t.co/AWCKzh0NC9</td>\n",
       "      <td>2019-08-14 20:59:05</td>\n",
       "      <td>1</td>\n",
       "      <td>Maryland</td>\n",
       "    </tr>\n",
       "    <tr>\n",
       "      <th>2</th>\n",
       "      <td>2035</td>\n",
       "      <td>2035</td>\n",
       "      <td>1161745151963930625</td>\n",
       "      <td>RT @btsworldwider: Fandoms are the ones who br...</td>\n",
       "      <td>2019-08-14 21:03:23</td>\n",
       "      <td>1</td>\n",
       "      <td>NaN</td>\n",
       "    </tr>\n",
       "    <tr>\n",
       "      <th>10</th>\n",
       "      <td>1212</td>\n",
       "      <td>1212</td>\n",
       "      <td>1161744530191736832</td>\n",
       "      <td>RT @Cernovich: CNN took its star reporter and ...</td>\n",
       "      <td>2019-08-14 21:00:54</td>\n",
       "      <td>1</td>\n",
       "      <td>California, USA</td>\n",
       "    </tr>\n",
       "    <tr>\n",
       "      <th>11</th>\n",
       "      <td>672</td>\n",
       "      <td>672</td>\n",
       "      <td>1161744161659346944</td>\n",
       "      <td>Alot of good deals in here today  at Irving Ma...</td>\n",
       "      <td>2019-08-14 20:59:26</td>\n",
       "      <td>1</td>\n",
       "      <td>Dallas, TX</td>\n",
       "    </tr>\n",
       "    <tr>\n",
       "      <th>17</th>\n",
       "      <td>574</td>\n",
       "      <td>574</td>\n",
       "      <td>1161744098191130626</td>\n",
       "      <td>Awesome https://t.co/CZZbOVVZtc</td>\n",
       "      <td>2019-08-14 20:59:11</td>\n",
       "      <td>1</td>\n",
       "      <td>jacksonville fl.</td>\n",
       "    </tr>\n",
       "  </tbody>\n",
       "</table>\n",
       "</div>\n",
       "      <button class=\"colab-df-convert\" onclick=\"convertToInteractive('df-9d4b611b-aed9-4421-b6b9-04bd43aa599d')\"\n",
       "              title=\"Convert this dataframe to an interactive table.\"\n",
       "              style=\"display:none;\">\n",
       "        \n",
       "  <svg xmlns=\"http://www.w3.org/2000/svg\" height=\"24px\"viewBox=\"0 0 24 24\"\n",
       "       width=\"24px\">\n",
       "    <path d=\"M0 0h24v24H0V0z\" fill=\"none\"/>\n",
       "    <path d=\"M18.56 5.44l.94 2.06.94-2.06 2.06-.94-2.06-.94-.94-2.06-.94 2.06-2.06.94zm-11 1L8.5 8.5l.94-2.06 2.06-.94-2.06-.94L8.5 2.5l-.94 2.06-2.06.94zm10 10l.94 2.06.94-2.06 2.06-.94-2.06-.94-.94-2.06-.94 2.06-2.06.94z\"/><path d=\"M17.41 7.96l-1.37-1.37c-.4-.4-.92-.59-1.43-.59-.52 0-1.04.2-1.43.59L10.3 9.45l-7.72 7.72c-.78.78-.78 2.05 0 2.83L4 21.41c.39.39.9.59 1.41.59.51 0 1.02-.2 1.41-.59l7.78-7.78 2.81-2.81c.8-.78.8-2.07 0-2.86zM5.41 20L4 18.59l7.72-7.72 1.47 1.35L5.41 20z\"/>\n",
       "  </svg>\n",
       "      </button>\n",
       "      \n",
       "  <style>\n",
       "    .colab-df-container {\n",
       "      display:flex;\n",
       "      flex-wrap:wrap;\n",
       "      gap: 12px;\n",
       "    }\n",
       "\n",
       "    .colab-df-convert {\n",
       "      background-color: #E8F0FE;\n",
       "      border: none;\n",
       "      border-radius: 50%;\n",
       "      cursor: pointer;\n",
       "      display: none;\n",
       "      fill: #1967D2;\n",
       "      height: 32px;\n",
       "      padding: 0 0 0 0;\n",
       "      width: 32px;\n",
       "    }\n",
       "\n",
       "    .colab-df-convert:hover {\n",
       "      background-color: #E2EBFA;\n",
       "      box-shadow: 0px 1px 2px rgba(60, 64, 67, 0.3), 0px 1px 3px 1px rgba(60, 64, 67, 0.15);\n",
       "      fill: #174EA6;\n",
       "    }\n",
       "\n",
       "    [theme=dark] .colab-df-convert {\n",
       "      background-color: #3B4455;\n",
       "      fill: #D2E3FC;\n",
       "    }\n",
       "\n",
       "    [theme=dark] .colab-df-convert:hover {\n",
       "      background-color: #434B5C;\n",
       "      box-shadow: 0px 1px 3px 1px rgba(0, 0, 0, 0.15);\n",
       "      filter: drop-shadow(0px 1px 2px rgba(0, 0, 0, 0.3));\n",
       "      fill: #FFFFFF;\n",
       "    }\n",
       "  </style>\n",
       "\n",
       "      <script>\n",
       "        const buttonEl =\n",
       "          document.querySelector('#df-9d4b611b-aed9-4421-b6b9-04bd43aa599d button.colab-df-convert');\n",
       "        buttonEl.style.display =\n",
       "          google.colab.kernel.accessAllowed ? 'block' : 'none';\n",
       "\n",
       "        async function convertToInteractive(key) {\n",
       "          const element = document.querySelector('#df-9d4b611b-aed9-4421-b6b9-04bd43aa599d');\n",
       "          const dataTable =\n",
       "            await google.colab.kernel.invokeFunction('convertToInteractive',\n",
       "                                                     [key], {});\n",
       "          if (!dataTable) return;\n",
       "\n",
       "          const docLinkHtml = 'Like what you see? Visit the ' +\n",
       "            '<a target=\"_blank\" href=https://colab.research.google.com/notebooks/data_table.ipynb>data table notebook</a>'\n",
       "            + ' to learn more about interactive tables.';\n",
       "          element.innerHTML = '';\n",
       "          dataTable['output_type'] = 'display_data';\n",
       "          await google.colab.output.renderOutput(dataTable, element);\n",
       "          const docLink = document.createElement('div');\n",
       "          docLink.innerHTML = docLinkHtml;\n",
       "          element.appendChild(docLink);\n",
       "        }\n",
       "      </script>\n",
       "    </div>\n",
       "  </div>\n",
       "  "
      ],
      "text/plain": [
       "    index  Unnamed: 0               id_str  \\\n",
       "0     539         539  1161744071939018752   \n",
       "2    2035        2035  1161745151963930625   \n",
       "10   1212        1212  1161744530191736832   \n",
       "11    672         672  1161744161659346944   \n",
       "17    574         574  1161744098191130626   \n",
       "\n",
       "                                                 text           created_at  \\\n",
       "0      Inspiring. Great Greta https://t.co/AWCKzh0NC9  2019-08-14 20:59:05   \n",
       "2   RT @btsworldwider: Fandoms are the ones who br...  2019-08-14 21:03:23   \n",
       "10  RT @Cernovich: CNN took its star reporter and ...  2019-08-14 21:00:54   \n",
       "11  Alot of good deals in here today  at Irving Ma...  2019-08-14 20:59:26   \n",
       "17                    Awesome https://t.co/CZZbOVVZtc  2019-08-14 20:59:11   \n",
       "\n",
       "    polarity     user_location  \n",
       "0          1          Maryland  \n",
       "2          1               NaN  \n",
       "10         1   California, USA  \n",
       "11         1        Dallas, TX  \n",
       "17         1  jacksonville fl.  "
      ]
     },
     "execution_count": 10,
     "metadata": {},
     "output_type": "execute_result"
    }
   ],
   "source": [
    "df1 = df1[df1['polarity'] == 1]\n",
    "df1.head()"
   ]
  },
  {
   "cell_type": "code",
   "execution_count": 11,
   "metadata": {
    "colab": {
     "base_uri": "https://localhost:8080/",
     "height": 206
    },
    "id": "L8Ljut3ehe9C",
    "outputId": "ef87c0d8-583d-4811-a2b6-f3cce4bba8d6"
   },
   "outputs": [
    {
     "data": {
      "text/html": [
       "\n",
       "  <div id=\"df-8e4d4f61-a400-48a5-bfa1-14b40be4f464\">\n",
       "    <div class=\"colab-df-container\">\n",
       "      <div>\n",
       "<style scoped>\n",
       "    .dataframe tbody tr th:only-of-type {\n",
       "        vertical-align: middle;\n",
       "    }\n",
       "\n",
       "    .dataframe tbody tr th {\n",
       "        vertical-align: top;\n",
       "    }\n",
       "\n",
       "    .dataframe thead th {\n",
       "        text-align: right;\n",
       "    }\n",
       "</style>\n",
       "<table border=\"1\" class=\"dataframe\">\n",
       "  <thead>\n",
       "    <tr style=\"text-align: right;\">\n",
       "      <th></th>\n",
       "      <th>text</th>\n",
       "      <th>polarity</th>\n",
       "    </tr>\n",
       "  </thead>\n",
       "  <tbody>\n",
       "    <tr>\n",
       "      <th>0</th>\n",
       "      <td>Inspiring. Great Greta https://t.co/AWCKzh0NC9</td>\n",
       "      <td>1</td>\n",
       "    </tr>\n",
       "    <tr>\n",
       "      <th>2</th>\n",
       "      <td>RT @btsworldwider: Fandoms are the ones who br...</td>\n",
       "      <td>1</td>\n",
       "    </tr>\n",
       "    <tr>\n",
       "      <th>10</th>\n",
       "      <td>RT @Cernovich: CNN took its star reporter and ...</td>\n",
       "      <td>1</td>\n",
       "    </tr>\n",
       "    <tr>\n",
       "      <th>11</th>\n",
       "      <td>Alot of good deals in here today  at Irving Ma...</td>\n",
       "      <td>1</td>\n",
       "    </tr>\n",
       "    <tr>\n",
       "      <th>17</th>\n",
       "      <td>Awesome https://t.co/CZZbOVVZtc</td>\n",
       "      <td>1</td>\n",
       "    </tr>\n",
       "  </tbody>\n",
       "</table>\n",
       "</div>\n",
       "      <button class=\"colab-df-convert\" onclick=\"convertToInteractive('df-8e4d4f61-a400-48a5-bfa1-14b40be4f464')\"\n",
       "              title=\"Convert this dataframe to an interactive table.\"\n",
       "              style=\"display:none;\">\n",
       "        \n",
       "  <svg xmlns=\"http://www.w3.org/2000/svg\" height=\"24px\"viewBox=\"0 0 24 24\"\n",
       "       width=\"24px\">\n",
       "    <path d=\"M0 0h24v24H0V0z\" fill=\"none\"/>\n",
       "    <path d=\"M18.56 5.44l.94 2.06.94-2.06 2.06-.94-2.06-.94-.94-2.06-.94 2.06-2.06.94zm-11 1L8.5 8.5l.94-2.06 2.06-.94-2.06-.94L8.5 2.5l-.94 2.06-2.06.94zm10 10l.94 2.06.94-2.06 2.06-.94-2.06-.94-.94-2.06-.94 2.06-2.06.94z\"/><path d=\"M17.41 7.96l-1.37-1.37c-.4-.4-.92-.59-1.43-.59-.52 0-1.04.2-1.43.59L10.3 9.45l-7.72 7.72c-.78.78-.78 2.05 0 2.83L4 21.41c.39.39.9.59 1.41.59.51 0 1.02-.2 1.41-.59l7.78-7.78 2.81-2.81c.8-.78.8-2.07 0-2.86zM5.41 20L4 18.59l7.72-7.72 1.47 1.35L5.41 20z\"/>\n",
       "  </svg>\n",
       "      </button>\n",
       "      \n",
       "  <style>\n",
       "    .colab-df-container {\n",
       "      display:flex;\n",
       "      flex-wrap:wrap;\n",
       "      gap: 12px;\n",
       "    }\n",
       "\n",
       "    .colab-df-convert {\n",
       "      background-color: #E8F0FE;\n",
       "      border: none;\n",
       "      border-radius: 50%;\n",
       "      cursor: pointer;\n",
       "      display: none;\n",
       "      fill: #1967D2;\n",
       "      height: 32px;\n",
       "      padding: 0 0 0 0;\n",
       "      width: 32px;\n",
       "    }\n",
       "\n",
       "    .colab-df-convert:hover {\n",
       "      background-color: #E2EBFA;\n",
       "      box-shadow: 0px 1px 2px rgba(60, 64, 67, 0.3), 0px 1px 3px 1px rgba(60, 64, 67, 0.15);\n",
       "      fill: #174EA6;\n",
       "    }\n",
       "\n",
       "    [theme=dark] .colab-df-convert {\n",
       "      background-color: #3B4455;\n",
       "      fill: #D2E3FC;\n",
       "    }\n",
       "\n",
       "    [theme=dark] .colab-df-convert:hover {\n",
       "      background-color: #434B5C;\n",
       "      box-shadow: 0px 1px 3px 1px rgba(0, 0, 0, 0.15);\n",
       "      filter: drop-shadow(0px 1px 2px rgba(0, 0, 0, 0.3));\n",
       "      fill: #FFFFFF;\n",
       "    }\n",
       "  </style>\n",
       "\n",
       "      <script>\n",
       "        const buttonEl =\n",
       "          document.querySelector('#df-8e4d4f61-a400-48a5-bfa1-14b40be4f464 button.colab-df-convert');\n",
       "        buttonEl.style.display =\n",
       "          google.colab.kernel.accessAllowed ? 'block' : 'none';\n",
       "\n",
       "        async function convertToInteractive(key) {\n",
       "          const element = document.querySelector('#df-8e4d4f61-a400-48a5-bfa1-14b40be4f464');\n",
       "          const dataTable =\n",
       "            await google.colab.kernel.invokeFunction('convertToInteractive',\n",
       "                                                     [key], {});\n",
       "          if (!dataTable) return;\n",
       "\n",
       "          const docLinkHtml = 'Like what you see? Visit the ' +\n",
       "            '<a target=\"_blank\" href=https://colab.research.google.com/notebooks/data_table.ipynb>data table notebook</a>'\n",
       "            + ' to learn more about interactive tables.';\n",
       "          element.innerHTML = '';\n",
       "          dataTable['output_type'] = 'display_data';\n",
       "          await google.colab.output.renderOutput(dataTable, element);\n",
       "          const docLink = document.createElement('div');\n",
       "          docLink.innerHTML = docLinkHtml;\n",
       "          element.appendChild(docLink);\n",
       "        }\n",
       "      </script>\n",
       "    </div>\n",
       "  </div>\n",
       "  "
      ],
      "text/plain": [
       "                                                 text  polarity\n",
       "0      Inspiring. Great Greta https://t.co/AWCKzh0NC9         1\n",
       "2   RT @btsworldwider: Fandoms are the ones who br...         1\n",
       "10  RT @Cernovich: CNN took its star reporter and ...         1\n",
       "11  Alot of good deals in here today  at Irving Ma...         1\n",
       "17                    Awesome https://t.co/CZZbOVVZtc         1"
      ]
     },
     "execution_count": 11,
     "metadata": {},
     "output_type": "execute_result"
    }
   ],
   "source": [
    "df1 = df1[['text', 'polarity']]\n",
    "df1.head()"
   ]
  },
  {
   "cell_type": "code",
   "execution_count": 12,
   "metadata": {
    "colab": {
     "base_uri": "https://localhost:8080/"
    },
    "id": "nuWefS8zh5Rx",
    "outputId": "84881da0-9f52-43db-d88c-cacb827b52c2"
   },
   "outputs": [
    {
     "data": {
      "text/plain": [
       "325"
      ]
     },
     "execution_count": 12,
     "metadata": {},
     "output_type": "execute_result"
    }
   ],
   "source": [
    "df1.shape[0]"
   ]
  },
  {
   "cell_type": "code",
   "execution_count": 13,
   "metadata": {
    "colab": {
     "base_uri": "https://localhost:8080/",
     "height": 206
    },
    "id": "F2-W2Wkeie8D",
    "outputId": "4d577934-4940-4b9c-8506-fc03367a11b5"
   },
   "outputs": [
    {
     "data": {
      "text/html": [
       "\n",
       "  <div id=\"df-9cf3cf83-0188-4ec2-b536-0621a55e5c67\">\n",
       "    <div class=\"colab-df-container\">\n",
       "      <div>\n",
       "<style scoped>\n",
       "    .dataframe tbody tr th:only-of-type {\n",
       "        vertical-align: middle;\n",
       "    }\n",
       "\n",
       "    .dataframe tbody tr th {\n",
       "        vertical-align: top;\n",
       "    }\n",
       "\n",
       "    .dataframe thead th {\n",
       "        text-align: right;\n",
       "    }\n",
       "</style>\n",
       "<table border=\"1\" class=\"dataframe\">\n",
       "  <thead>\n",
       "    <tr style=\"text-align: right;\">\n",
       "      <th></th>\n",
       "      <th>text</th>\n",
       "      <th>label</th>\n",
       "    </tr>\n",
       "  </thead>\n",
       "  <tbody>\n",
       "    <tr>\n",
       "      <th>0</th>\n",
       "      <td>Inspiring. Great Greta https://t.co/AWCKzh0NC9</td>\n",
       "      <td>1</td>\n",
       "    </tr>\n",
       "    <tr>\n",
       "      <th>2</th>\n",
       "      <td>RT @btsworldwider: Fandoms are the ones who br...</td>\n",
       "      <td>1</td>\n",
       "    </tr>\n",
       "    <tr>\n",
       "      <th>10</th>\n",
       "      <td>RT @Cernovich: CNN took its star reporter and ...</td>\n",
       "      <td>1</td>\n",
       "    </tr>\n",
       "    <tr>\n",
       "      <th>11</th>\n",
       "      <td>Alot of good deals in here today  at Irving Ma...</td>\n",
       "      <td>1</td>\n",
       "    </tr>\n",
       "    <tr>\n",
       "      <th>17</th>\n",
       "      <td>Awesome https://t.co/CZZbOVVZtc</td>\n",
       "      <td>1</td>\n",
       "    </tr>\n",
       "  </tbody>\n",
       "</table>\n",
       "</div>\n",
       "      <button class=\"colab-df-convert\" onclick=\"convertToInteractive('df-9cf3cf83-0188-4ec2-b536-0621a55e5c67')\"\n",
       "              title=\"Convert this dataframe to an interactive table.\"\n",
       "              style=\"display:none;\">\n",
       "        \n",
       "  <svg xmlns=\"http://www.w3.org/2000/svg\" height=\"24px\"viewBox=\"0 0 24 24\"\n",
       "       width=\"24px\">\n",
       "    <path d=\"M0 0h24v24H0V0z\" fill=\"none\"/>\n",
       "    <path d=\"M18.56 5.44l.94 2.06.94-2.06 2.06-.94-2.06-.94-.94-2.06-.94 2.06-2.06.94zm-11 1L8.5 8.5l.94-2.06 2.06-.94-2.06-.94L8.5 2.5l-.94 2.06-2.06.94zm10 10l.94 2.06.94-2.06 2.06-.94-2.06-.94-.94-2.06-.94 2.06-2.06.94z\"/><path d=\"M17.41 7.96l-1.37-1.37c-.4-.4-.92-.59-1.43-.59-.52 0-1.04.2-1.43.59L10.3 9.45l-7.72 7.72c-.78.78-.78 2.05 0 2.83L4 21.41c.39.39.9.59 1.41.59.51 0 1.02-.2 1.41-.59l7.78-7.78 2.81-2.81c.8-.78.8-2.07 0-2.86zM5.41 20L4 18.59l7.72-7.72 1.47 1.35L5.41 20z\"/>\n",
       "  </svg>\n",
       "      </button>\n",
       "      \n",
       "  <style>\n",
       "    .colab-df-container {\n",
       "      display:flex;\n",
       "      flex-wrap:wrap;\n",
       "      gap: 12px;\n",
       "    }\n",
       "\n",
       "    .colab-df-convert {\n",
       "      background-color: #E8F0FE;\n",
       "      border: none;\n",
       "      border-radius: 50%;\n",
       "      cursor: pointer;\n",
       "      display: none;\n",
       "      fill: #1967D2;\n",
       "      height: 32px;\n",
       "      padding: 0 0 0 0;\n",
       "      width: 32px;\n",
       "    }\n",
       "\n",
       "    .colab-df-convert:hover {\n",
       "      background-color: #E2EBFA;\n",
       "      box-shadow: 0px 1px 2px rgba(60, 64, 67, 0.3), 0px 1px 3px 1px rgba(60, 64, 67, 0.15);\n",
       "      fill: #174EA6;\n",
       "    }\n",
       "\n",
       "    [theme=dark] .colab-df-convert {\n",
       "      background-color: #3B4455;\n",
       "      fill: #D2E3FC;\n",
       "    }\n",
       "\n",
       "    [theme=dark] .colab-df-convert:hover {\n",
       "      background-color: #434B5C;\n",
       "      box-shadow: 0px 1px 3px 1px rgba(0, 0, 0, 0.15);\n",
       "      filter: drop-shadow(0px 1px 2px rgba(0, 0, 0, 0.3));\n",
       "      fill: #FFFFFF;\n",
       "    }\n",
       "  </style>\n",
       "\n",
       "      <script>\n",
       "        const buttonEl =\n",
       "          document.querySelector('#df-9cf3cf83-0188-4ec2-b536-0621a55e5c67 button.colab-df-convert');\n",
       "        buttonEl.style.display =\n",
       "          google.colab.kernel.accessAllowed ? 'block' : 'none';\n",
       "\n",
       "        async function convertToInteractive(key) {\n",
       "          const element = document.querySelector('#df-9cf3cf83-0188-4ec2-b536-0621a55e5c67');\n",
       "          const dataTable =\n",
       "            await google.colab.kernel.invokeFunction('convertToInteractive',\n",
       "                                                     [key], {});\n",
       "          if (!dataTable) return;\n",
       "\n",
       "          const docLinkHtml = 'Like what you see? Visit the ' +\n",
       "            '<a target=\"_blank\" href=https://colab.research.google.com/notebooks/data_table.ipynb>data table notebook</a>'\n",
       "            + ' to learn more about interactive tables.';\n",
       "          element.innerHTML = '';\n",
       "          dataTable['output_type'] = 'display_data';\n",
       "          await google.colab.output.renderOutput(dataTable, element);\n",
       "          const docLink = document.createElement('div');\n",
       "          docLink.innerHTML = docLinkHtml;\n",
       "          element.appendChild(docLink);\n",
       "        }\n",
       "      </script>\n",
       "    </div>\n",
       "  </div>\n",
       "  "
      ],
      "text/plain": [
       "                                                 text  label\n",
       "0      Inspiring. Great Greta https://t.co/AWCKzh0NC9      1\n",
       "2   RT @btsworldwider: Fandoms are the ones who br...      1\n",
       "10  RT @Cernovich: CNN took its star reporter and ...      1\n",
       "11  Alot of good deals in here today  at Irving Ma...      1\n",
       "17                    Awesome https://t.co/CZZbOVVZtc      1"
      ]
     },
     "execution_count": 13,
     "metadata": {},
     "output_type": "execute_result"
    }
   ],
   "source": [
    "df1.rename(columns = {'polarity':'label'}, inplace = True)\n",
    "df1.head()"
   ]
  },
  {
   "cell_type": "code",
   "execution_count": 14,
   "metadata": {
    "id": "3gsLyj17ilQ3"
   },
   "outputs": [],
   "source": [
    "frames = [df, df1]\n",
    " \n",
    "df = pd.concat(frames)"
   ]
  },
  {
   "cell_type": "code",
   "execution_count": 15,
   "metadata": {
    "colab": {
     "base_uri": "https://localhost:8080/"
    },
    "id": "s7BejKjejRUj",
    "outputId": "305a89a4-bb31-4b4e-8d51-c43b218dd810"
   },
   "outputs": [
    {
     "data": {
      "text/plain": [
       "0    0.58913\n",
       "1    0.41087\n",
       "Name: label, dtype: float64"
      ]
     },
     "execution_count": 15,
     "metadata": {},
     "output_type": "execute_result"
    }
   ],
   "source": [
    "df['label'].value_counts(normalize = True)"
   ]
  },
  {
   "cell_type": "code",
   "execution_count": 19,
   "metadata": {
    "colab": {
     "base_uri": "https://localhost:8080/"
    },
    "id": "2_A1uQ1YjexN",
    "outputId": "38fdec16-748b-4997-c047-278359722d9d"
   },
   "outputs": [
    {
     "name": "stdout",
     "output_type": "stream",
     "text": [
      "['i', 'me', 'my', 'myself', 'we', 'our', 'ours', 'ourselves', 'you', \"you're\", \"you've\", \"you'll\", \"you'd\", 'your', 'yours', 'yourself', 'yourselves', 'he', 'him', 'his', 'himself', 'she', \"she's\", 'her', 'hers', 'herself', 'it', \"it's\", 'its', 'itself', 'they', 'them', 'their', 'theirs', 'themselves', 'what', 'which', 'who', 'whom', 'this', 'that', \"that'll\", 'these', 'those', 'am', 'is', 'are', 'was', 'were', 'be', 'been', 'being', 'have', 'has', 'had', 'having', 'do', 'does', 'did', 'doing', 'a', 'an', 'the', 'and', 'but', 'if', 'or', 'because', 'as', 'until', 'while', 'of', 'at', 'by', 'for', 'with', 'about', 'against', 'between', 'into', 'through', 'during', 'before', 'after', 'above', 'below', 'to', 'from', 'up', 'down', 'in', 'out', 'on', 'off', 'over', 'under', 'again', 'further', 'then', 'once', 'here', 'there', 'when', 'where', 'why', 'how', 'all', 'any', 'both', 'each', 'few', 'more', 'most', 'other', 'some', 'such', 'no', 'nor', 'not', 'only', 'own', 'same', 'so', 'than', 'too', 'very', 's', 't', 'can', 'will', 'just', 'don', \"don't\", 'should', \"should've\", 'now', 'd', 'll', 'm', 'o', 're', 've', 'y', 'ain', 'aren', \"aren't\", 'couldn', \"couldn't\", 'didn', \"didn't\", 'doesn', \"doesn't\", 'hadn', \"hadn't\", 'hasn', \"hasn't\", 'haven', \"haven't\", 'isn', \"isn't\", 'ma', 'mightn', \"mightn't\", 'mustn', \"mustn't\", 'needn', \"needn't\", 'shan', \"shan't\", 'shouldn', \"shouldn't\", 'wasn', \"wasn't\", 'weren', \"weren't\", 'won', \"won't\", 'wouldn', \"wouldn't\"]\n"
     ]
    },
    {
     "name": "stderr",
     "output_type": "stream",
     "text": [
      "[nltk_data] Downloading package stopwords to /root/nltk_data...\n",
      "[nltk_data]   Unzipping corpora/stopwords.zip.\n"
     ]
    }
   ],
   "source": [
    "# Import nltk package and download the stopwords\n",
    "import nltk \n",
    "nltk.download('stopwords')\n",
    "# We filter out the english language stopwrds\n",
    "from nltk.corpus import stopwords\n",
    "stop_words = stopwords.words('english')\n",
    "print(stop_words)"
   ]
  },
  {
   "cell_type": "code",
   "execution_count": 22,
   "metadata": {
    "id": "-K8X6GOjjs7e"
   },
   "outputs": [],
   "source": [
    "from nltk.stem import SnowballStemmer\n",
    "\n",
    "stemmer = SnowballStemmer('english')"
   ]
  },
  {
   "cell_type": "code",
   "execution_count": 23,
   "metadata": {
    "id": "OKUIOkB4kQ2c"
   },
   "outputs": [],
   "source": [
    "import re\n",
    "text_cleaning_regex = \"@S+|https?:S+|http?:S|[^A-Za-z0-9]+\""
   ]
  },
  {
   "cell_type": "code",
   "execution_count": 24,
   "metadata": {
    "id": "TAp_xQ1DkUpw"
   },
   "outputs": [],
   "source": [
    "def clean_text(text, stem=False):\n",
    "  # Text passed to the regex equatio\n",
    "  text = re.sub(text_cleaning_regex, ' ', str(text).lower()).strip()\n",
    "  # Empty list created to store final tokens\n",
    "  tokens = []\n",
    "  for token in text.split():\n",
    "    # check if the token is a stop word or not\n",
    "    if token not in stop_words:\n",
    "      if stem:\n",
    "        # Paased to the snowball stemmer\n",
    "        tokens.append(stemmer.stem(token))\n",
    "      else:\n",
    "        # A\n",
    "        tokens.append(token)\n",
    "  return \" \".join(tokens)"
   ]
  },
  {
   "cell_type": "code",
   "execution_count": 25,
   "metadata": {
    "id": "CTzlf_nikam1"
   },
   "outputs": [],
   "source": [
    "df.text = df.text.apply(lambda x: clean_text(x))"
   ]
  },
  {
   "cell_type": "code",
   "execution_count": 26,
   "metadata": {
    "colab": {
     "base_uri": "https://localhost:8080/"
    },
    "id": "8yb-Tc_NkfIG",
    "outputId": "12fdcbed-0048-4c21-cb9c-37fac36b50e1"
   },
   "outputs": [
    {
     "name": "stdout",
     "output_type": "stream",
     "text": [
      "Train Data size: 736\n",
      "Test Data size 184\n"
     ]
    }
   ],
   "source": [
    "# Import functions from sklearn library\n",
    "from sklearn.model_selection import train_test_split\n",
    "from sklearn.preprocessing import LabelEncoder\n",
    "# Splitting the data into training and testing sets\n",
    "train_data, test_data = train_test_split(df, test_size=0.2,random_state=16)\n",
    "print(\"Train Data size:\", len(train_data))\n",
    "print(\"Test Data size\", len(test_data))"
   ]
  },
  {
   "cell_type": "code",
   "execution_count": 27,
   "metadata": {
    "id": "l81s6EcnknI2"
   },
   "outputs": [],
   "source": [
    "from keras.preprocessing.text import Tokenizer\n",
    "tokenizer = Tokenizer()"
   ]
  },
  {
   "cell_type": "code",
   "execution_count": 29,
   "metadata": {
    "colab": {
     "base_uri": "https://localhost:8080/"
    },
    "id": "xk4mHuClkq7Y",
    "outputId": "6f552c6b-ae5f-4f21-c792-893c1cee4552"
   },
   "outputs": [
    {
     "name": "stdout",
     "output_type": "stream",
     "text": [
      "{'https': 1, 'co': 2, 'rt': 3, 'facebook': 4, 'good': 5, 'never': 6, 'like': 7, 'work': 8, 'one': 9, 'get': 10, 'must': 11, 'feel': 12, 'day': 13, 'bad': 14, 'people': 15, 'find': 16, 'would': 17, 'twitter': 18, 'love': 19, 'many': 20, 'always': 21, 'believe': 22, 'home': 23, 'camera': 24, 'going': 25, 'happy': 26, 'someone': 27, 'youtube': 28, 'make': 29, 'taking': 30, 'help': 31, 'f': 32, 'better': 33, 'go': 34, 'hard': 35, 'demseokdimple': 36, 'endearing': 37, 'anytime': 38, 'hoseok': 39, 'uses': 40, 'angles': 41, 'mom': 42, 'selfie': 43, 'profile': 44, 'even': 45, 'time': 46, 'person': 47, 'something': 48, 'ones': 49, 'bring': 50, 'amp': 51, 'btsworldwider': 52, 'fandoms': 53, 'engagements': 54, 'bts': 55, 'bbmas': 56, 'voting': 57, 'army': 58, 'need': 59, 'partner': 60, 'done': 61, 'win': 62, 'call': 63, 'new': 64, 'us': 65, 'though': 66, 'point': 67, 'job': 68, 'dangerous': 69, 'boss': 70, 'right': 71, 'every': 72, 'best': 73, 'everything': 74, 'friend': 75, 'way': 76, 'leon': 77, 'despite': 78, 'able': 79, 'great': 80, 'give': 81, 'still': 82, 'everyone': 83, 'things': 84, 'much': 85, 'years': 86, 'see': 87, 'know': 88, 'life': 89, 'anyone': 90, 'unfair': 91, 'school': 92, 'sure': 93, 'fault': 94, 'via': 95, 'project': 96, 'friends': 97, 'made': 98, 'show': 99, 'believes': 100, 'getting': 101, 'well': 102, 'guilty': 103, 'mother': 104, 'come': 105, 'around': 106, 'nothing': 107, 'family': 108, 'conclude': 109, 'fail': 110, 'next': 111, 'let': 112, 'feeling': 113, 'pay': 114, 'others': 115, 'husband': 116, 'sister': 117, 'got': 118, 'anything': 119, 'feelings': 120, 'say': 121, 'promotion': 122, 'afraid': 123, 'child': 124, 'lose': 125, 'nice': 126, '10': 127, 'beautiful': 128, 'late': 129, 'end': 130, 'felt': 131, 'failure': 132, 'terrible': 133, 'else': 134, 'teacher': 135, 'please': 136, 'doctor': 137, 'wanted': 138, 'really': 139, 'fear': 140, 'said': 141, 'worked': 142, 'wrong': 143, 'place': 144, 'enough': 145, 'convinced': 146, 'might': 147, 'take': 148, 'care': 149, 'relationship': 150, 'grades': 151, 'could': 152, 'days': 153, 'last': 154, 'trying': 155, 'gym': 156, 'today': 157, 'missed': 158, 'studying': 159, 'spent': 160, 'health': 161, 'fair': 162, 'page': 163, 'internet': 164, 'nervous': 165, 'join': 166, 'safe': 167, 'perfect': 168, 'started': 169, 'plane': 170, 'without': 171, 'week': 172, 'stop': 173, 'tell': 174, '3': 175, 'kids': 176, 'kind': 177, 'expect': 178, 'weight': 179, 'children': 180, 'date': 181, 'support': 182, 'try': 183, 'class': 184, 'exam': 185, 'house': 186, 'leave': 187, 'attention': 188, 'driving': 189, 'coworker': 190, 'tomorrow': 191, 'birthday': 192, 'awesome': 193, 'gave': 194, 'failed': 195, 'ever': 196, 'worthless': 197, 'coworkers': 198, 'anxiety': 199, 'situation': 200, 'become': 201, 'keep': 202, 'idole': 203, 'stuttering': 204, 'check': 205, 'looking': 206, 'maybe': 207, 'start': 208, 'look': 209, 'raise': 210, 'lonely': 211, 'hurt': 212, 'eat': 213, 'working': 214, 'meet': 215, 'entire': 216, 'math': 217, 'matter': 218, 'believed': 219, 'may': 220, 'ask': 221, 'put': 222, 'blamed': 223, 'deserve': 224, 'think': 225, 'monica': 226, 'freeway': 227, 'heart': 228, 'longer': 229, 'drive': 230, 'assume': 231, 'avoid': 232, 'became': 233, 'remember': 234, 'result': 235, 'test': 236, 'trip': 237, 'flight': 238, 'information': 239, 'knew': 240, 'panic': 241, 'two': 242, 'return': 243, 'boy': 244, 'attack': 245, 'condition': 246, 'true': 247, 'upset': 248, 'night': 249, 'daughter': 250, 'fat': 251, 'stupid': 252, 'poor': 253, 'efforts': 254, 'jerk': 255, 'seems': 256, 'die': 257, 'took': 258, 'crew': 259, 'passengers': 260, 'cares': 261, 'confirm': 262, 'loser': 263, 'means': 264, 'entirely': 265, 'minutes': 266, 'understand': 267, 'thanks': 268, 'confirms': 269, 'clean': 270, 'several': 271, 'money': 272, 'fact': 273, 'rewarded': 274, 'study': 275, 'first': 276, 'special': 277, '100': 278, 'girl': 279, 'social': 280, 'read': 281, 'dogs': 282, 'amazing': 283, 'left': 284, 'world': 285, 'ago': 286, 'company': 287, 'blame': 288, 'event': 289, 'wonderful': 290, 'party': 291, 'hope': 292, 'talk': 293, 'mistake': 294, 'unless': 295, 'successful': 296, 'advice': 297, 'completely': 298, 'another': 299, 'office': 300, 'worth': 301, 'video': 302, 'evidence': 303, 'expected': 304, 'performance': 305, 'overcome': 306, 'interview': 307, 'sibling': 308, 'share': 309, 'bottles': 310, 'chances': 311, 'tag': 312, 'talented': 313, 'waste': 314, 'cernovich': 315, 'cnn': 316, 'star': 317, 'reporter': 318, 'grandmother': 319, 'russia': 320, 'asset': 321, 'bullying': 322, 'bro': 323, 'smile': 324, 'respect': 325, 'unequivocally': 326, 'believing': 327, 'im': 328, 'economy': 329, 'least': 330, '5': 331, 'alone': 332, 'part': 333, 'community': 334, 'kn': 335, 'unlovable': 336, 'avoiding': 337, 'paid': 338, 'area': 339, 'meeting': 340, 'police': 341, 'watching': 342, 'phone': 343, 'full': 344, 'effort': 345, 'food': 346, 'already': 347, 'happen': 348, 'forever': 349, 'welcome': 350, 'giveaway': 351, 'needed': 352, 'aware': 353, 'isolated': 354, 'group': 355, 'improve': 356, 'ought': 357, 'control': 358, 'accident': 359, 'aggressive': 360, 'arrived': 361, 'assignment': 362, 'refused': 363, 'traffic': 364, 'r': 365, 'happens': 366, 'healthy': 367, 'change': 368, 'asked': 369, 'self': 370, 'hand': 371, 'lot': 372, 'stopped': 373, 'ready': 374, 'loved': 375, 'colleagues': 376, 'notice': 377, 'thinks': 378, 'thing': 379, 'red': 380, 'technical': 381, 'opinion': 382, 'facts': 383, 'dont': 384, 'saw': 385, 'told': 386, 'proud': 387, 'morning': 388, 'eli': 389, 'close': 390, 'assumed': 391, 'achieve': 392, 'lost': 393, 'word': 394, 'immediately': 395, 'spend': 396, 'god': 397, 'exercise': 398, 'e': 399, 'adult': 400, '4': 401, 'amazon': 402, 'struggling': 403, 'men': 404, 'ways': 405, 'robbed': 406, 'aug': 407, 'tom': 408, 'error': 409, 'fragranceshopuk': 410, 'newest': 411, 'scent': 412, 'lancome': 413, 'enter': 414, 'tweet': 415, 'responds': 416, 'father': 417, 'band': 418, 'member': 419, 'respond': 420, 'comes': 421, 'winner': 422, 'stumble': 423, 'forward': 424, 'opened': 425, 'stunning': 426, 'little': 427, 'face': 428, 'train': 429, 'simply': 430, 'instead': 431, 'deduce': 432, 'degree': 433, 'ok': 434, 'radio': 435, 'live': 436, 'storm': 437, 'reasons': 438, 'top': 439, 'settle': 440, 'room': 441, 'fellow': 442, 'beloved': 443, 'trusted': 444, 'students': 445, 'fix': 446, 'universe': 447, 'weekend': 448, 'forgetting': 449, 'coming': 450, 'dinner': 451, 'exhausted': 452, 'want': 453, 'stuck': 454, 'gift': 455, 'jontymesser': 456, 'totnes': 457, 'mp': 458, 'sarahwollaston': 459, 'joining': 460, 'libdems': 461, 'updates': 462, 'itvwestcountry': 463, 'mood': 464, 'wish': 465, 'along': 466, 'says': 467, 'cook': 468, 'goes': 469, 'fears': 470, 'rush': 471, 'hour': 472, 'refuses': 473, 'dog': 474, 'equally': 475, 'bitter': 476, 'leah': 477, 'review': 478, 'probably': 479, 'piece': 480, 'feedback': 481, 'stress': 482, 'grade': 483, 'oxygen': 484, 'oh': 485, 'n': 486, 'summer': 487, 'post': 488, 'also': 489, 'business': 490, 'upcoming': 491, 'flying': 492, 'shaking': 493, 'sweating': 494, 'boarded': 495, 'pilot': 496, 'warned': 497, 'turbulence': 498, 'seatbelts': 499, 'crash': 500, 'experienced': 501, 'break': 502, 'talking': 503, 'back': 504, 'sleep': 505, 'lol': 506, 'sharing': 507, 'hear': 508, 'guys': 509, 'year': 510, 'harder': 511, 'fall': 512, 'smoke': 513, 'inadequate': 514, 'decided': 515, 'makes': 516, 'difference': 517, 'concentrate': 518, 'sarah': 519, 'manager': 520, 'finds': 521, 'wants': 522, 'order': 523, 'car': 524, 'ads': 525, 'disagree': 526, 'aspect': 527, 'industry': 528, 'standard': 529, 'procedures': 530, 'followed': 531, 'tried': 532, 'began': 533, 'free': 534, 'giving': 535, 'music': 536, 'pick': 537, 'officer': 538, 'near': 539, 'question': 540, 'admit': 541, 'fluent': 542, 'blues': 543, 'dance': 544, 'final': 545, 'thought': 546, 'came': 547, 'angry': 548, 'visit': 549, 'times': 550, 'eating': 551, 'restaurant': 552, 'incredible': 553, 'fun': 554, 'boyfriend': 555, 'success': 556, 'total': 557, 'overslept': 558, 'therapy': 559, 'five': 560, 'since': 561, 'jealousy': 562, 'accusing': 563, 'shown': 564, 'devotion': 565, 'anyway': 566, 'chance': 567, 'long': 568, 'enjoy': 569, 'killed': 570, 'fast': 571, 'failing': 572, 'concluding': 573, 'save': 574, 'cats': 575, 'hilarious': 576, 'loving': 577, 'rude': 578, 'faithful': 579, 'career': 580, 'presentation': 581, 'cute': 582, 'guess': 583, 'earlier': 584, 'wife': 585, 'sat': 586, 'recognize': 587, 'appreciate': 588, 'questions': 589, 'fighting': 590, 'therefore': 591, 'team': 592, 'driver': 593, 'welfare': 594, 'difficult': 595, 'physically': 596, 'various': 597, 'demonstrated': 598, 'core': 599, 'medication': 600, 'concluded': 601, 'extremely': 602, 'responsible': 603, 'possible': 604, 'play': 605, 'quickly': 606, 'line': 607, 'friday': 608, 'open': 609, 'parents': 610, 'whereas': 611, 'changed': 612, 'enraged': 613, 'arguing': 614, 'quit': 615, 'manner': 616, 'gorgeous': 617, 'young': 618, 'age': 619, 'listen': 620, 'thank': 621, 'kindly': 622, 'dgleavephoto': 623, 'scuttlers': 624, 'middleton': 625, 'gmxtyadr6j': 626, 'decide': 627, 'attractive': 628, 'super': 629, 'boat': 630, 'sink': 631, 'causing': 632, 'drown': 633, 'driven': 634, 'liked': 635, 'succeeding': 636, 'label': 637, 'pictures': 638, 'watch': 639, 'gotten': 640, 'jimmy': 641, 'screw': 642, 'slow': 643, 'junnabaradillo': 644, 'faceversary': 645, 'junna': 646, 'compelled': 647, 'unlovability': 648, 'decent': 649, 'average': 650, '2019': 651, 'club': 652, 'fans': 653, 'psychotherapy': 654, 'click': 655, 'mikeschiemer': 656, 'marketing': 657, 'facebookmarketing': 658, 'socialize': 659, 'television': 660, 'playing': 661, 'straight': 662, 'hobbies': 663, 'regret': 664, 'remy': 665, 'prepare': 666, 'inevitable': 667, 'poisoning': 668, 'incident': 669, 'restaurants': 670, 'associated': 671, 'independence': 672, 'bless': 673, 'bigger': 674, 'projects': 675, 'hire': 676, 'classes': 677, 'sloppy': 678, 'trust': 679, 'wondered': 680, 'miserable': 681, 'went': 682, 'scheduled': 683, 'away': 684, 'arrive': 685, 'bath': 686, 'song': 687, 'realize': 688, 'issues': 689, 'famous': 690, 'assuming': 691, 'certain': 692, 'medicine': 693, 'coach': 694, 'meals': 695, 'works': 696, 'mistreated': 697, 'racing': 698, 'slacks': 699, 'seen': 700, 'noisy': 701, 'kept': 702, 'hoping': 703, 'reward': 704, 'suspected': 705, 'affairs': 706, 'hostile': 707, 'lifetime': 708, 'submitted': 709, 'accept': 710, 'accused': 711, 'strict': 712, 'p': 713, 'according': 714, 'manage': 715, 'levels': 716, 'half': 717, 'dozen': 718, 'mess': 719, 'screaming': 720, 'low': 721, 'cuts': 722, 'complete': 723, 'adequately': 724, 'message': 725, 'sandrak93322487': 726, 'chrome': 727, 'animal': 728, 'rescue': 729, 'northeast': 730, 'le': 731, 'moving': 732, 'feels': 733, 'answered': 734, 'yet': 735, 'either': 736, 'lovely': 737, 'sale': 738, 'starts': 739, 'shot': 740, 'bmorrow58': 741, 'liberal': 742, 'y4reenh8ng': 743, 'butts': 744, 'resigned': 745, 'severance': 746, 'tax': 747, 'dollars': 748, 'airplane': 749, 'worry': 750, 'previous': 751, 'problems': 752, 'fasten': 753, 'portion': 754, 'loud': 755, 'anxious': 756, '00': 757, 'walk': 758, 'begin': 759, 'behind': 760, 'reciprocate': 761, 'yes': 762, 'katrinarosa17': 763, 'katrina': 764, 'plumber': 765, 'gone': 766, 'volunteer': 767, 'run': 768, 'wdwjedimaster': 769, 'tipoftheears': 770, 'intentionally': 771, 'worldmusicaward': 772, 'dates': 773, 'opens': 774, 'expecting': 775, 'towards': 776, 'idea': 777, 'technique': 778, 'tn': 779, 'memphis': 780, '2yo': 781, 'sinatra': 782, 'laying': 783, 'kick': 784, 'abby': 785, 'pursue': 786, 'encouragement': 787, 'supervisor': 788, 'candidates': 789, 'qualified': 790, 'aidan': 791, 'front': 792, 'assumes': 793, 'negatively': 794, 'hit': 795, 'light': 796, 'offer': 797, 'nobody': 798, 'bother': 799, 'due': 800, 'mistakes': 801, 'ignore': 802, 'abilities': 803, 'closed': 804, 'past': 805, 'stlcardsfankyle': 806, 'chancetherapper': 807, 'wrote': 808, 'relatable': 809, 'lyrics': 810, 'faced': 811, 'manifold': 812, 'horrors': 813, 'cre': 814, 'definitely': 815, 'compliments': 816, 'superior': 817, 'yesterday': 818, 'soon': 819, 'beacuse': 820, 'equal': 821, 'receive': 822, 'thepeel': 823, 'setting': 824, 'miles': 825, 'speed': 826, 'limit': 827, 'parked': 828, 'road': 829, 'trap': 830, 'happened': 831, 'lies': 832, 'rather': 833, 'rmdqgoemvr': 834, 'lmalrn9a3p': 835, 'responsibilities': 836, 'used': 837, 'quiet': 838, 'hey': 839, 'precious': 840, 'baby': 841, 'four': 842, 'per': 843, 'changes': 844, 'messed': 845, 'treated': 846, 'university': 847, 'drlindseyfitz': 848, 'archaeologists': 849, 'discovered': 850, 'array': 851, 'amulets': 852, 'gems': 853, 'lucky': 854, 'charms': 855, 'pompeii': 856, 'knowing': 857, 'classmates': 858, 'broke': 859, 'assured': 860, 'jenna': 861, 'greeted': 862, 'mike': 863, 'rita': 864, 'interest': 865, 'obsessed': 866, 'lets': 867, 'realized': 868, 'interesting': 869, 'imdb': 870, 'rate': 871, 'ha': 872, 'dad': 873, 'recently': 874, 'received': 875, 'comprehend': 876, 'obviously': 877, 'battling': 878, 'credible': 879, 'betrayal': 880, 'status': 881, 'wallpapers': 882, 'answer': 883, 'toy': 884, 'comment': 885, 'within': 886, 'normal': 887, 'range': 888, 'stock': 889, 'king': 890, 'hello': 891, 'healthier': 892, 'resentful': 893, 'sometimes': 894, 'learn': 895, 'less': 896, 'although': 897, 'real': 898, 'sake': 899, 'comfortable': 900, 'evening': 901, 'sorry': 902, 'contact': 903, 'buddy': 904, 'par': 905, 'commerce': 906, 'library': 907, 'academic': 908, '15': 909, 'ruin': 910, 'latest': 911, 'softball': 912, 'favorite': 913, 'battle': 914, 'regardless': 915, 'labeled': 916, 'receiving': 917, 'overwhelming': 918, 'fainting': 919, 'succeed': 920, '19': 921, 'w': 922, 'terrence': 923, 'trump': 924, 'content': 925, 'experiencing': 926, 'james': 927, 'nycdeathrowcats': 928, 'grew': 929, 'consider': 930, 'overgeneralize': 931, '1': 932, 'session': 933, 'studied': 934, 'sincerely': 935, 'early': 936, 'remain': 937, 'skills': 938, 'found': 939, 'making': 940, 'conclusion': 941, 'refuse': 942, 'teachers': 943, 'consideration': 944, 'course': 945, 'leading': 946, 'furnissbakery': 947, 'mini': 948, 'biscuits': 949, 'jar': 950, 'giftpack': 951, 'competition': 952, 'keeping': 953, 'grocery': 954, 'shopping': 955, 'sofa': 956, 'complain': 957, 'value': 958, 'struggle': 959, 'infidelity': 960, 'treatment': 961, 'recommendations': 962, 'individual': 963, 'argues': 964, 'build': 965, 'posted': 966, 'picture': 967, 'lab': 968, 'travel': 969, 'set': 970, 'remake': 971, 'desires': 972, 'considers': 973, 'serious': 974, 'sarahbrightman': 975, 'speculative': 976, 'fiction': 977, 'giftcard': 978, 'sffbookbonanza': 979, 'suggestion': 980, 'joy': 981, '12': 982, 'row': 983, 'dead': 984, 'annoying': 985, 'man': 986, 'awful': 987, 'worthwhile': 988, 'worthlessness': 989, 'loves': 990, 'continue': 991, 'called': 992, 'online': 993, 'gets': 994, 'eaten': 995, 'extra': 996, 'stomach': 997, 'slowly': 998, 'comments': 999, '20': 1000, 'truly': 1001, 'given': 1002, 'cancer': 1003, 'luck': 1004, 'specific': 1005, 'behavior': 1006, 'provoke': 1007, 'badly': 1008, 'forget': 1009, 'recover': 1010, 'activities': 1011, 'cfmdc': 1012, 'opportunity': 1013, 'depressed': 1014, 'worst': 1015, 'chocolate': 1016, 'environment': 1017, 'bmi': 1018, 'blood': 1019, 'fitness': 1020, 'goals': 1021, '17th': 1022, '1st': 1023, 'njdevils': 1024, 'alumni': 1025, 'namikim': 1026, 'dogssk': 1027, 'savekoreandogs': 1028, 'ceecee': 1029, 'adopted': 1030, 'knee': 1031, 'playground': 1032, 'ive': 1033, 'ruined': 1034, 'wine': 1035, 'turned': 1036, 'carried': 1037, 'utterly': 1038, 'sign': 1039, 'anna': 1040, 'robbiezombie': 1041, 'waiting': 1042, 'security': 1043, 'younger': 1044, 'bob': 1045, 'august': 1046, 'secretive': 1047, 'argue': 1048, 'supportive': 1049, 'case': 1050, 'depending': 1051, 'irritate': 1052, 'frustrated': 1053, 'prove': 1054, 'brusque': 1055, 'sparkly': 1056, 'pieces': 1057, 'wecjkhv5ih': 1058, 'politicians': 1059, 'provide': 1060, 'effective': 1061, 'solutions': 1062, 'entrepreneurs': 1063, 'witt': 1064, 'thoug': 1065, 'f70onmcdpq': 1066, 'fit': 1067, 'normally': 1068, 'daugther': 1069, 'unexpectedly': 1070, 'desk': 1071, 'personality': 1072, 'inn': 1073, 'dalhart': 1074, 'o3lube5gpo': 1075, 'skilled': 1076, 'volunteers': 1077, 'hargls0cy8': 1078, 'earning': 1079, 'riding': 1080, 'direction': 1081, 'g5b4udqhov': 1082, 'endeavor': 1083, 'workplace': 1084, 'acres': 1085, 'holds': 1086, 'mo': 1087, 'mhzmfavmpi': 1088, 'grantcardone': 1089, 'strong': 1090, 'personalities': 1091, 'tune': 1092, 'wait': 1093, 'subway': 1094, 'indicates': 1095, 'cwyma5tbsd': 1096, 'deliberately': 1097, 'projectokmusic': 1098, 'flow': 1099, 'trance': 1100, '1mix': 1101, '14': 1102, '8': 1103, '4ufyjaaows': 1104, '276': 1105, 'listeners': 1106, '1mixradio': 1107, 'leo': 1108, 'meets': 1109, 'pga': 1110, 'player': 1111, 'denny': 1112, 'mccarthy': 1113, 'argyle': 1114, 'country': 1115, 'nnco4fqde0': 1116, 'fan': 1117, 'greet': 1118, 'pointless': 1119, 'homework': 1120, 'possibly': 1121, 'emily': 1122, 'stakely': 1123, 'reminder': 1124, 'creator': 1125, '51': 1126, 'matty': 1127, 'roberts': 1128, '7': 1129, 'businesses': 1130, 'ftluexxev9': 1131, 'faceb': 1132, 'cops': 1133, 'salaries': 1134, 'st': 1135, 'louis': 1136, 'chiefs': 1137, 'aecxonfzcx': 1138, 'dislike': 1139, 'dig': 1140, 'grg4wkqs10': 1141, 'outcomes': 1142, 'indian': 1143, 'allah': 1144, 'motherland': 1145, 'peace': 1146, 'prosperity': 1147, 'dcfymphr8o': 1148, 'bit': 1149, 'branded': 1150, 'rofl': 1151, 'o6t8q9bmcq': 1152, 'exhaust': 1153, 'attempting': 1154, 'flat': 1155, 'tire': 1156, 'conspiring': 1157, 'mary': 1158, 'getaway': 1159, 'remembered': 1160, 'contractor': 1161, 'pandemic': 1162, 'massage': 1163, 'feet': 1164, 'afternoon': 1165, 'preparing': 1166, 'however': 1167, 'finally': 1168, 'connection': 1169, 'telling': 1170, 'unjust': 1171, 'provided': 1172, 'hdjlvnkc5d': 1173, '1qkec9okpe': 1174, 'wzuoojddzn': 1175, 'rapid': 1176, 'wristbands': 1177, 'card': 1178, 'sbjyhjcg5t': 1179, 'depends': 1180, 'catsvshumanity': 1181, '9taqnugsef': 1182, '73rd': 1183, 'rakshabandhan': 1184, 'regards': 1185, 'mmeera': 1186, 'kingdomkmeera': 1187, 'kingdom': 1188, 'cel': 1189, 'vomk8hpmom': 1190, 'eats': 1191, 'bed': 1192, 'friendaversary': 1193, 'angel': 1194, 'oa4zyymrrv': 1195, 'simone': 1196, 'biles': 1197, 'azcnf8z4lo': 1198, 'spotless': 1199, 'recognition': 1200, 'underrated': 1201, 'footballer': 1202, 'marco': 1203, 'reus': 1204, 'wyxwpfuuck': 1205, 'invites': 1206, 'invite': 1207, 'geoewuyy9i': 1208, 'humanity': 1209, 'disgrace': 1210, 'extinct': 1211, 'history': 1212, 'irresponsibility': 1213, 'martha': 1214, 'coningsbyuk': 1215, 'mil': 1216, 'aviation': 1217, 'images': 1218, 'uwc1u3itm3': 1219, 'hopeless': 1220, 'general': 1221, 'suicidal': 1222, 'buy': 1223, 'product': 1224, 'nmg4wtrflh': 1225, 'arriving': 1226, 'excruciatingly': 1227, 'pace': 1228, 'busy': 1229, 'disaster': 1230, 'jewellery': 1231, 'youre': 1232, 'ttcisruiwz': 1233, 'carl': 1234, 'harrington': 1235, 'spursofficial': 1236, 'hopefully': 1237, 'magic': 1238, 'altcoinsara': 1239, 'sarahttps': 1240, 'u89pfkoj5v': 1241, 'charge': 1242, 'broncolor': 1243, 'parabolic': 1244, 'umbrella': 1245, '133': 1246, 'ava': 1247, 'duvernay': 1248, 'shut': 1249, 'ebsszmhf0n': 1250, 'monday': 1251, 'searched': 1252, 'attacks': 1253, 'czzbovvztc': 1254, 'season': 1255, 'poringlandfc': 1256, '3ps95tspml': 1257, 'agressive': 1258, 'injections': 1259, 'stay': 1260, 'calm': 1261, 'rachel': 1262, 'deelynn': 1263, 'studio': 1264, 'miss': 1265, 'yankton': 1266, 'info': 1267, 'idq9eryth3': 1268, 'php': 1269, '3999': 1270, 'lg': 1271, 'g3': 1272, 'cat6': 1273, '99': 1274, 'smooth': 1275, '101': 1276, 'issue': 1277, 'superb': 1278, 'gamming': 1279, 'perforamnce': 1280, 'specs': 1281, 'snapdrag': 1282, 'mvt7bzvsm6': 1283, 'stops': 1284, 'suspect': 1285, 'gossiping': 1286, 'independencedayindia': 1287, 'nights': 1288, 'loveshctc': 1289, 'kfypr7ohxw': 1290, 'anymore': 1291, 'yqyfevpwbs': 1292, 'tm9y28ark2': 1293, 'dishes': 1294, 'looked': 1295, 'missing': 1296, 'debating': 1297, 'view': 1298, 'assist': 1299, 'errand': 1300, 'unavailable': 1301, 'lmao': 1302, 'buddies': 1303, 'videos': 1304, 'alot': 1305, 'deals': 1306, 'irving': 1307, 'mall': 1308, 'zbqfrzmti1': 1309, 'day6': 1310, 'reveals': 1311, 'locations': 1312, 'gravityworldtour': 1313, 'meanwhile': 1314, 'dowoon': 1315, 'channel': 1316, 'da': 1317, 'rest': 1318, 'resentment': 1319, 'colleague': 1320, 'tacticutepink': 1321, 'loadout': 1322, '1qppdxmany': 1323, 'aorpink': 1324, 'marcelinepink': 1325, 'tacticute': 1326, 'tmcgear': 1327, 'tmc': 1328, 'airsoft': 1329, 'airso': 1330, 'mocked': 1331, 'embarrassing': 1332, 'employee': 1333, 'advertising': 1334, 'tips': 1335, 'experts': 1336, 'trello': 1337, 'wework': 1338, 'college': 1339, 'cl': 1340, 'zenttpeisy': 1341, 'pimple': 1342, 'ugly': 1343, 'msmorgan1968': 1344, 'codered': 1345, 'longs': 1346, 'affection': 1347, '2b': 1348, 'unlovedhe': 1349, 'stressed': 1350, 'overwhelmed': 1351, 'weed': 1352, '7poh1wzn1e': 1353, 'whistle': 1354, 'blowers': 1355, 'google': 1356, 'htqgggk1om': 1357, 'pointed': 1358, 'improvments': 1359, 'notable': 1360, 'nvnqyozxnc': 1361, 'workers': 1362, 'employer': 1363, 'use': 1364, 'effectively': 1365, 'aprqlmhanm': 1366, 'gqpl0oa4ii': 1367, 'execute': 1368, 'individuals': 1369, 'opinions': 1370, 'apko': 1371, 'mommy': 1372, 'ko': 1373, 'pta': 1374, 'hai': 1375, 'ap': 1376, 'wahiyaat': 1377, 'society': 1378, 'k': 1379, 'nam': 1380, 'sy': 1381, 'ho': 1382, 'ysuo98eqxt': 1383, 'known': 1384, 'board': 1385, 'planes': 1386, 'advance': 1387, 'flights': 1388, 'requested': 1389, 'escalated': 1390, 'mrs': 1391, 'vickie': 1392, 'peterson': 1393, 'deserved': 1394, 'congratulations': 1395, '23dxkz8mli': 1396, 'malke': 1397, 'mu92r74plf': 1398, 'programming': 1399, 'tend': 1400, 'maggieshalifax': 1401, 'level': 1402, 'results': 1403, 'three': 1404, 'smirnoff': 1405, 'vodka': 1406, 'mixers': 1407, 'door': 1408, 'cfnaeamfrg': 1409, 'enjoyed': 1410, 'preforming': 1411, 'kegra1kjfg': 1412, 'westchesterwmf': 1413, 'westchester': 1414, 'festival': 1415, 'flyer': 1416, 'scared': 1417, 'spouse': 1418, 'leaving': 1419, 'flawless': 1420, 'pics': 1421, 'sold': 1422, 'gracevanderwaal': 1423, 'helping': 1424, 'tour': 1425, 'photo': 1426, 'pool': 1427, 'beautifully': 1428, 'quaint': 1429, 'pinecrest': 1430, 'retreat': 1431, 'i7ru8y0jv8': 1432, 'inconspicuous': 1433, 'obsess': 1434, 'secure': 1435, 'search': 1436, 'raced': 1437, 'risk': 1438, 'mistaken': 1439, 'disliked': 1440, 'seem': 1441, 'enthusiastic': 1442, 'expectations': 1443, 'rdu': 1444, 'john': 1445, 'months': 1446, 'learned': 1447, 'ropes': 1448, 'managers': 1449, 'relied': 1450, 'depended': 1451, 'favours': 1452, 'christmas': 1453, 'fifteen': 1454, 'twenty': 1455, 'wedding': 1456, 'send': 1457, 'conference': 1458, 'asking': 1459, 'insisted': 1460, 'annual': 1461, 'form': 1462, 'exploded': 1463, 'rage': 1464, 'interns': 1465, 'joked': 1466, 'laughed': 1467, 'secretly': 1468, 'crazy': 1469, 'lisabrabson': 1470, 'needs': 1471, 'spread': 1472, 'adopt': 1473, 'irreparably': 1474, 'damaged': 1475, 'primanti': 1476, 'bros': 1477, 'cqjrgqnbqo': 1478, 'newsflash': 1479, 'groups': 1480, 'smm': 1481, 'smal': 1482, 'write': 1483, 'insubordination': 1484, 'victims': 1485, 'sexual': 1486, 'violence': 1487, 'knows': 1488, 'jsuluketrt': 1489, 'hannah': 1490, 'haircut': 1491, 'otherwise': 1492, 'observes': 1493, 'irritated': 1494, 'keeps': 1495, 'searching': 1496, 'mind': 1497, 'improves': 1498, 'forgotten': 1499, 'nondescript': 1500, 'lazy': 1501, 'breaking': 1502, 'diet': 1503, 'cookie': 1504, 'dieting': 1505, 'destined': 1506, 'overweight': 1507, 'shark': 1508, 'ocean': 1509, 'events': 1510, 'failures': 1511, 'measure': 1512, 'errors': 1513, 'wishes': 1514, 'houskeeping': 1515, 'mad': 1516, 'alarms': 1517, 'greeting': 1518, 'bitcoin': 1519, 'bitcoinnews': 1520, 'bitcointalk': 1521, 'btc': 1522, 'news': 1523, 'gt': 1524, 'xfspop07kb': 1525, 'assurances': 1526, 'contrary': 1527, '37': 1528, 'hfhn0rk2mv': 1529, 'leaves': 1530, 'decision': 1531, 'teamsanjivani': 1532, 'sanjivanians': 1533, 'sanjivani': 1534, 'pouplar': 1535, 'cut': 1536, 'parenting': 1537, 'ticket': 1538, 'stopping': 1539, 'shop': 1540, 'incredibly': 1541, 'hurried': 1542, 'affair': 1543, '2tclawy6zo': 1544, 'unique': 1545, 'messages': 1546, 'quotes': 1547, 'independenceday': 1548, '15thaugustindependenceday': 1549, 'nzjtrmqkox': 1550, 'nubyusa': 1551, 'giveawayenter': 1552, 'nubybath': 1553, 'vzsucvwfam': 1554, 'wo': 1555, 'doctors': 1556, 'blue': 1557, 'shells': 1558, 'hill': 1559, 'mario': 1560, 'kart': 1561, 'toledo': 1562, 'rspmoxclsg': 1563, 'robert': 1564, 'liking': 1565, 'tweets': 1566, 'ilikebrenden': 1567, 'ijzauwamyd': 1568, 'sunderland': 1569, 'saturday': 1570, 'pompey': 1571, 'szvlrx51r2': 1572, 'struggled': 1573, 'major': 1574, 'depressive': 1575, 'disorder': 1576, 'forgive': 1577, 'ne': 1578, 'forgiving': 1579, 'developed': 1580, 'closer': 1581, 'diagnosis': 1582, 'depression': 1583, 'responded': 1584, 'compassionately': 1585, 'infuriated': 1586, 'determined': 1587, 'forgiven': 1588, 'apologized': 1589, 'misunderstanding': 1590, 'epileha': 1591, 'youse': 1592, 'oku': 1593, 'hala': 1594, 'aupito': 1595, 'knowledge': 1596, 'reason': 1597, 'ki': 1598, 'hono': 1599, 'ban': 1600, 'tonga': 1601, 'vave': 1602, 'mau': 1603, 'pe': 1604, 'ke': 1605, 'tohi': 1606, 'chortletown': 1607, 'muzzle': 1608, 'bear': 1609, 'scars': 1610, 'sadness': 1611, 'gentle': 1612, 'goodness': 1613, '6pm': 1614, 'enpilsen': 1615, 'pilsen': 1616, 'chicago': 1617, '0jaz4v72ly': 1618, 'polenta': 1619, 'fantastic': 1620, 'f5fjl': 1621, 'xyl': 1622, 'surprise': 1623, 'hb9cat': 1624, 'j': 1625, 'qdlfitaugm': 1626, 'fwan2shbai': 1627, 'achieved': 1628, 'appears': 1629, 'disrepair': 1630, 'kevin': 1631, 'grohowski': 1632, 'qtfunx4ydh': 1633, 'gtzm0lfac8': 1634, 'guilt': 1635, 'wba8sa0vll': 1636, 'j7m2xdj2ak': 1637, 'dislikes': 1638, 'particular': 1639, 'hobby': 1640, 'gender': 1641, 'usually': 1642, 'participate': 1643, 'cared': 1644, 'fluoride': 1645, 'yyx0ledvee': 1646, 'darian': 1647, 'watson': 1648, 'pbdnpccjws': 1649, 'japanese': 1650, 'cutting': 1651, 'jam': 1652, 'clearly': 1653, 'wasting': 1654, 'harmed': 1655, 'unitebetsicadw1': 1656, 'unite': 1657, 'opposes': 1658, 'proposed': 1659, 'acute': 1660, 'nursing': 1661, 'rosters': 1662, 'xxd9lbt1nq': 1663, 'wwe': 1664, 'signings': 1665, 'officially': 1666, 'announced': 1667, 'ggnqi2ouwt': 1668, 'nnjjyovvoo': 1669, 'wanna': 1670, 'tony': 1671, 'heres': 1672, 'forg': 1673, 'reading': 1674, 'hisenhe6fy': 1675, 'zl7jt8qti8': 1676, 'annak53': 1677, 'inspirational': 1678, 'waspi': 1679, 'women': 1680, 'scandalous': 1681, 'benefit': 1682, 'tournament': 1683, 'hero': 1684, 'field': 1685, 'wapx2rk7oy': 1686, 'collection': 1687, 'jewelry': 1688, '50': 1689, 'discount': 1690, 'tdvzlniaga': 1691, 'fashionable': 1692, 'mzmmhzavmm': 1693, 'tynemouthsurfco': 1694, 'itv': 1695, 'yesterdays': 1696, 'clip': 1697, 'insta': 1698, 'pages': 1699, 'x': 1700, 'growing': 1701, 'tooo': 1702, 'nxnsmma4ox': 1703, 'jeboannie': 1704, 'animalplanet': 1705, 'surely': 1706, 'uw': 1707, 'romantic': 1708, 'bennyjohnson': 1709, 'shared': 1710, 'inspiring': 1711, 'greta': 1712, 'awckzh0nc9': 1713, 'friendversary': 1714, 'gp2pbs0knx': 1715, 'amanthakker': 1716, 'kudos': 1717, 'akhilbery': 1718, 'kelsbroderick': 1719, 'm1oixhihwi': 1720, 'ringworm': 1721, 'mirage': 1722, 'luxor': 1723, '1t5fcbjja6': 1724, 'td9tftcknv': 1725, 'whatever': 1726, 'praise': 1727, 'reprimanded': 1728, 'criticised': 1729, 'supposed': 1730, 'guy': 1731, 'observed': 1732, 'l329s7ggbo': 1733, 'author': 1734, 'writer': 1735, 'blogger': 1736, 'etc': 1737, '000': 1738, 'followers': 1739, 'retweets': 1740, 'wdderlcekd': 1741, 'alcohol': 1742, 'practiced': 1743, 'loyal': 1744, '9fcifbadh8': 1745, 'refugees': 1746, 'vietnameseamerican': 1747, 'voxpkcwdxt': 1748, 'thinking': 1749, 'action': 1750, 'affcte': 1751, 'suffer': 1752, 'obliging': 1753, 'presentations': 1754, 'tantamount': 1755, 'torturing': 1756, 'consistent': 1757, 'headaches': 1758, 'suffering': 1759, 'brain': 1760, 'tumor': 1761, 'cause': 1762, 'embarrassment': 1763, '16eblwt3ys': 1764, 'tmbllecmer': 1765, 'score': 1766, 'sacrifice': 1767, 'denial': 1768, '7m6o72hcgf': 1769, 'panicked': 1770, 'lashing': 1771, 'appointee': 1772, 'clueless': 1773, 'markets': 1774, 'nosedive': 1775, 'kqqyhudgqz': 1776, 'important': 1777, 'dared': 1778, 'mightily': 1779, 'resist': 1780, 'plausible': 1781, 'betrayed': 1782, 'jennifer': 1783, 'captain': 1784, 'exercising': 1785, 'following': 1786, 'deteriorates': 1787, 'undivided': 1788, 'block': 1789, 'comfortably': 1790, 'intellectual': 1791, 'costs': 1792, 'carry': 1793, 'contends': 1794, 'ignores': 1795, 'ability': 1796, 'arianawyndham': 1797, 'daca': 1798, 'recipients': 1799, 'dreamers': 1800, 'supporters': 1801, 'camaracts': 1802, 'calling': 1803, 'rboso67ir0': 1804, 'bjedvxkfzm': 1805, 'awake': 1806, 'fender': 1807, 'bender': 1808, 'difficulty': 1809, 'qoel5xki0o': 1810, 'injection': 1811, 'mlb': 1812, '0': 1813, 'rangers': 1814, 'rggdg29tpt': 1815, 'supermarket': 1816, 'sells': 1817, 'spoiled': 1818, 'exorbitant': 1819, 'prices': 1820, 'greatly': 1821, 'slackhmqth': 1822, 'cheated': 1823, 'lied': 1824, 'didnt': 1825, 'autocorrect': 1826, 'licvhy70z6': 1827, 'digimon': 1828, 'pokmon': 1829, 'l3akjjto0p': 1830, 'tthank': 1831, 'edenwald': 1832, 'reuion': 1833, 'fonoesarhv': 1834, 'renew': 1835, 'passport': 1836, 'remind': 1837, 'spending': 1838, 'learning': 1839, 'shoot': 1840, 'throw': 1841, 'baskets': 1842, 'basketball': 1843, 'drawn': 1844, 'boys': 1845, 'appealing': 1846, 'image': 1847, 'tripped': 1848, 'rock': 1849, 'jogging': 1850, 'uncoordinated': 1851, 'continuing': 1852, 'running': 1853, 'likely': 1854, 'injury': 1855, '9qzcuqq1hd': 1856, 'rq41j4nxnk': 1857, '9': 1858, 'trends': 1859, 'ktrfqd9knl': 1860, 'videomarketing': 1861, 'youtuber': 1862, 'igtv': 1863, 'ins': 1864, 'girlfriend': 1865, 'almost': 1866, 'nag': 1867, 'tries': 1868, 'persuade': 1869, 'unhappy': 1870, 'responding': 1871, 'texts': 1872, 'second': 1873, 'furthermore': 1874, 'f3juzaryfr': 1875, 'cell': 1876, 'msleasalonga': 1877, 'rwljkgi8zr': 1878, '1keephzctt': 1879, 'improvement': 1880, 'dwell': 1881, 'hide': 1882, 'aldenexclusive2': 1883, 'nows': 1884, 'ethan': 1885, 'singapore': 1886, 'hello3rdweekoflove': 1887, 'aldenrichards': 1888, 'zmu1zwrv1q': 1889, 'nobodoy': 1890, 'grant': 1891, 'lance': 1892, 'denver': 1893, 'hnbfjci5nq': 1894, 'dependent': 1895, 'exhaustion': 1896, 'sitting': 1897, 'audacity': 1898, 'happening': 1899, 'faith': 1900, 'richard': 1901, 'halverson': 1902, 'famously': 1903, 'christianity': 1904, 'palestine': 1905, 'wt07fcwiyd': 1906, 'worldkenneth': 1907, 'teamkennethfoster': 1908, 'kenneth': 1909, 'death': 1910, 'vwswujhtpc': 1911, 'turns': 1912, 'helped': 1913, 'somehow': 1914, 'y4oblhsk0u': 1915, 'kiss': 1916, 'perhaps': 1917, 'dream': 1918, 'becoming': 1919, 'singer': 1920, 'pursuing': 1921, 'attracted': 1922, 'valuable': 1923, 'vain': 1924, 'venture': 1925, 'lee': 1926, 'supporter': 1927, 'mentalhealthmile': 1928, 'favour': 1929, 'sgwxobg7bw': 1930, 'avoided': 1931, 'alchol': 1932, 'woke': 1933, 'exercised': 1934, 'stayed': 1935, 'practised': 1936, 'ace': 1937, 'accomplished': 1938, 'seeing': 1939, 'documentary': 1940, 'tinder': 1941, 'unsafe': 1942, 'terribly': 1943, 'handle': 1944, 'cleaning': 1945, 'ltsebqxyz6': 1946, 'officialskc': 1947, 'ncinvhqogj': 1948, 'relationships': 1949, 'negative': 1950, 'experiences': 1951, 'deciding': 1952, 'city': 1953, 'coastal': 1954, 'gallery': 1955, 'shawls': 1956, 'vgwudocmem': 1957, 'doughnut': 1958, 'acts': 1959, 'recklessly': 1960, 'parent': 1961, 'likes': 1962, 'shares': 1963, 'tuesday': 1964, 'pm': 1965, 'ct': 1966, 'he8sibhand': 1967, 'died': 1968, 'ucsivpax3p': 1969, 'endurance': 1970, 'sent': 1971, 'text': 1972, 'response': 1973, 'grateful': 1974, 'ugxaknlf1r': 1975, 'nonsmoker': 1976, 'heavy': 1977, 'smokers': 1978, 'task': 1979, 'consequences': 1980, 'tasks': 1981, 'overlooked': 1982, 'reviewing': 1983, 'physique': 1984, 'sardar': 1985, 'ravinder': 1986, 'singh': 1987, 'g': 1988, 'emlze0djup': 1989, 'birds': 1990, 'constantly': 1991, 'pooping': 1992, 'calls': 1993, 'valued': 1994, 'pic': 1995, 'robin': 1996, 'hoods': 1997, 'bay': 1998, 'glenn': 1999, 'kilpatrick': 2000, 'v6cypcefqu': 2001, 'granted': 2002, 'finger': 2003, 'hardworking': 2004, 'fllowing': 2005, 'instructions': 2006, 'mencap': 2007, 'gardens': 2008, 'stackpole': 2009, 'tree': 2010, 'wood': 2011, 'artist': 2012, 'bpljubenpq': 2013, 'dies': 2014, 'educate': 2015, 'chastised': 2016, 'simple': 2017, 'education': 2018, 'eyes': 2019, 'wed': 2020, '14a': 2021, 'experimental': 2022, 'films': 2023, 'jaene': 2024, 'castrillon': 2025, '2spirit': 2026, 'trans': 2027, 'inte': 2028, 'dear': 2029, 'hugs': 2030, 'kisses': 2031, 'brilliant': 2032, 'humor': 2033, 'omhrkgvqqm': 2034, 'b': 2035, 'enacted': 2036, 'excellent': 2037, 'majesty': 2038, 'consent': 2039, 'lords': 2040, 'spiritual': 2041, 'qp0psunkzp': 2042, 'follow': 2043, 'deteriorated': 2044, 'skip': 2045, 'tick': 2046, 'notmynamewhou': 2047, 'popehat': 2048, 'h3m7gf4gmw': 2049, 'radioneal': 2050, 'downtownradio': 2051, 'annemarie': 2052, 'chsqbelfast': 2053, 'belfast': 2054, 'x86bz7fnub': 2055, 'finish': 2056, 'overworking': 2057, 'accomplish': 2058, 'modified': 2059, 'roomba': 2060, 'curse': 2061, 'bumps': 2062, 'vmpxxkrnh3': 2063, 'covid': 2064, 'reliant': 2065, 'exams': 2066, 'overall': 2067, 'quality': 2068, 'favorable': 2069, 'johndoepodcast': 2070, 'moon': 2071, 'unsettling': 2072, 'novel': 2073, 'non': 2074, 'horror': 2075, '6zfju4movo': 2076, 'wasnt': 2077, 'judging': 2078, 'tv': 2079, 'traveling': 2080, 'ex': 2081, 'drank': 2082, 'reach': 2083, 'estate': 2084, 'brand': 2085, 'listings': 2086, 'connect': 2087, 'awb7numk3x': 2088, 'pass': 2089, 'ran': 2090, 'lights': 2091, 'ti': 2092, 'heynigeipd': 2093, 'dsy8ovc2yu': 2094, 'futile': 2095, 'successstories': 2096, 'fostered': 2097, 'chloe': 2098, 'coleman': 2099, 'none': 2100, 'losing': 2101, 'earn': 2102, 'turn': 2103, 'mah': 2104, 'cadence': 2105, 'k0msesaljk': 2106, 'perceive': 2107, 'skinned': 2108, 'suggesting': 2109, 'far': 2110, 'grow': 2111, 'tired': 2112, 'focus': 2113, 'solely': 2114, 'flaws': 2115, 'vid': 2116, 'dropped': 2117, 'backs': 2118, 'referring': 2119, 'beat': 2120, 'yo': 2121, 'mfn': 2122, 'ass': 2123, 'vmrsriyaip': 2124, 'ignorant': 2125, 'totally': 2126, 'contract': 2127, 'tanya': 2128, 'goodwin1': 2129, 'america': 2130, 'evolved': 2131, 'protectterrencekwilliams': 2132, 'gsu': 2133, 'deeds': 2134, 'appear': 2135, 'considered': 2136, 'saints': 2137, 'hopeful': 2138, 'encourage': 2139, 'fa': 2140, 'fnbyray5ee': 2141, 'box': 2142, 'bucks': 2143, 'appetizers': 2144, 'j4kkgwgplo': 2145, 'extreme': 2146, 'easy': 2147, 'fief81lkin': 2148, 'walking': 2149, 'messes': 2150, 'takeout': 2151, 'whole': 2152, 'ride': 2153, 'horlasodex': 2154, 'items': 2155, 'wears': 2156, 'hor': 2157, 'lar': 2158, 'eleniyan': 2159, 'whatapp': 2160, '07013428544': 2161, 'gucci': 2162, 'chanel': 2163, 'balenciaga': 2164, 'puma': 2165, 'givenchy': 2166, 'cesarean': 2167, 'ma1nonjfqf': 2168, 'expressed': 2169, 'treat': 2170, 'unfairly': 2171, 'claims': 2172, 'disregards': 2173, 'extent': 2174, 'argument': 2175, 'subject': 2176, '49': 2177, 'market': 2178, 'blaming': 2179, 'petition': 2180, 'owners': 2181, 'energy': 2182, 'krt2nzz8bq': 2183, 'gives': 2184, 'organize': 2185, 'phillybeer': 2186, 'philly': 2187, 'blessed': 2188, 'grilledsteak': 2189, 'goodvibes': 2190, 'goodmorning': 2191, 'lifestyle': 2192, 'usa': 2193, 'dayoff': 2194, 'milkboy': 2195, 'xi1ciu6ula': 2196, 'exploring': 2197, 'fur': 2198, 'iq2jlrhysy': 2199, 'allow': 2200, 'worthy': 2201, 'cannot': 2202, 'powerlessness': 2203, 'wrongdoing': 2204, 'cooked': 2205, 'elaborated': 2206, 'endless': 2207, 'baking': 2208, 'sewing': 2209, 'drove': 2210, 'afterschool': 2211, 'anniversary': 2212, 'brothers': 2213, 'n84tyhwtpv': 2214, 'ten': 2215, 'helmet': 2216, 'dd0gif49xm': 2217, 'recessions': 2218, 'careful': 2219, 'tough': 2220, 'neighbor': 2221, 'mentioned': 2222, 'outside': 2223, 'dark': 2224, 'strikes': 2225, 'direct': 2226, 'horrible': 2227, 'disgusting': 2228, 'hairy': 2229, 'rsnyproductions': 2230, 'nyc': 2231, 'head': 2232, 'wingednation': 2233, 'winged': 2234, 'nation': 2235, 'podcast': 2236, 'thepostman68': 2237, 'erinevernham': 2238, 'joined': 2239, 'nosvillenationals': 2240, 'winning': 2241, 'chie': 2242, 'persecuted': 2243, '5asqtqm1qa': 2244, 'situations': 2245, 'sees': 2246, 'decides': 2247, '48': 2248, 'till': 2249, 'mayoclinic': 2250, '4985': 2251, 'retweet': 2252, 'repost': 2253, 'aca': 2254, 'twrwckcxb6': 2255, 'tsa': 2256, 'airport': 2257, 'suddenly': 2258, 'approached': 2259, 'entering': 2260, 'ahead': 2261, 'worse': 2262, 'promoted': 2263, 'longest': 2264, 'comparison': 2265, 'applicants': 2266, 'compliment': 2267, 'lately': 2268, 'position': 2269, 'devil': 2270, 'pasto': 2271, 'of0kyx8mal': 2272, 'apologize': 2273, 'bothered': 2274, 'donut': 2275, 'hurting': 2276, 'swallowit': 2277, 'berniesanders': 2278, 'xojn7swudw': 2279, 'chipped': 2280, 'indicate': 2281, 'spike': 2282, 'pressure': 2283, 'usual': 2284, 'route': 2285, 'geyr8xmdzv': 2286, 'watched': 2287, 'scary': 2288, 'movie': 2289, 'purpose': 2290, 'immaculate': 2291, 'appreciation': 2292, 'increasingly': 2293, 'problem': 2294, 'emotionally': 2295, 'bankrupting': 2296, 'destroyed': 2297, '08': 2298, 'lwaaxana': 2299, 'lithe': 2300, 'lady': 2301, 'earned': 2302, 'longing': 2303, 'casima001': 2304, 'played': 2305, 'clicking': 2306, 'fb': 2307, 'link': 2308, 'type': 2309, 'inhliziy': 2310, 'worker': 2311, 'reddogsusie': 2312, 'code': 2313, 'hw': 2314, 'stray': 2315, 'soul': 2316, 'leash': 2317, 'fuss': 2318, 'attent': 2319, 'shelter': 2320, 'puppy': 2321, 'kimchee': 2322, 'lunch': 2323, 'canine': 2324, 'kill': 2325, 'phobia': 2326, 'scream': 2327, 'cat': 2328, 'vicious': 2329, 'suyoonrcpc': 2330, '190814': 2331, 'playlist': 2332, 'bim': 2333, 'bam': 2334, 'bum': 2335, 'ver': 2336, 'uicwxcuuhj': 2337, 'rocket': 2338, 'punch': 2339, 'rcpc': 2340, 'podd1grjw5': 2341, 'yulibaby': 2342, 'ker0idysen': 2343, '4tqixhlujt': 2344, 'poy': 2345, '0hojsaijbz': 2346, 'wednesday': 2347, 'shymvpfzsc': 2348, 'procedure': 2349, 'disabled': 2350, 'risefallnick': 2351, 'source': 2352, 'dfqccf8m3m': 2353, 'yo45nfp3gq': 2354, 'highest': 2355, 'withdraw': 2356, 'sandralion': 2357, 'across': 2358, 'damn': 2359, 'fade': 2360, 'portland': 2361, 'labeling': 2362, 'old': 2363, 'dating': 2364, 'fine': 2365, 'changing': 2366, 'penalized': 2367, 'adhd': 2368, 'indifferent': 2369, 'difficulties': 2370, 'committed': 2371, 'suicide': 2372, 'deal': 2373, 'obnoxious': 2374, 'hes': 2375, 'raynor': 2376, 'island': 2377, 'lake': 2378, 'bays': 2379, '2l0rq91l1o': 2380, 'dust': 2381, 'ordered': 2382, 'iwe32xmqom': 2383, 'showing': 2384, 'rare': 2385, 'exist': 2386, 'memory': 2387, 'futurities': 2388, 'champions': 2389, 'tracy': 2390, 'taylor': 2391, 'smokin': 2392, 'tomcat': 2393, 'yahoo': 2394, 'pldm2zelb7': 2395, 'delcoema': 2396, 'wishing': 2397, 'lavender': 2398, 'retirement': 2399, 'worn': 2400, 'hats': 2401, 'cautious': 2402, 'dyslexia': 2403, 'whenever': 2404, 'pleased': 2405, 'hosting': 2406, '16': 2407, 'anlaby': 2408, 'studios': 2409, 'attend': 2410, 'ffnhfecjkm': 2411, 'drives': 2412, 'ferrari': 2413, 'wealthy': 2414, 'magical': 2415, 'artists': 2416, 'camarshallstar': 2417, 'camarshallshow': 2418, 'shesagreatartistinherownright': 2419, 'topnotchrepo': 2420, 'dumb': 2421, 'bill': 2422, 'blondes': 2423, 'unemployable': 2424, 'interviewing': 2425, 'salmon': 2426, 'steak': 2427, 'nbyzyt53qi': 2428, 'ramen': 2429, 'qzx6nxrnzk': 2430, 'improved': 2431, 'boring': 2432, 'connorgfoundat1': 2433, 'tix': 2434, 'sharon': 2435, 'expects': 2436, 'flowers': 2437, 'gifts': 2438, 'rejected': 2439, 'continually': 2440, 'walks': 2441, 'firestorms': 2442, 'accusations': 2443, 'uncaring': 2444, 'unloving': 2445, 'candid': 2446, 'attract': 2447, 'concerned': 2448, 'acted': 2449, 'nbcbayarea': 2450, 'popular': 2451, 'messenger': 2452, 'app': 2453, 'listened': 2454, 'recordi': 2455}\n"
     ]
    }
   ],
   "source": [
    "tokenizer.fit_on_texts(train_data.text)\n",
    "word_index = tokenizer.word_index\n",
    "print(word_index)"
   ]
  },
  {
   "cell_type": "code",
   "execution_count": 30,
   "metadata": {
    "colab": {
     "base_uri": "https://localhost:8080/"
    },
    "id": "VvKQFMVjkyIX",
    "outputId": "4f2efb15-d903-4eb0-ebee-1480abff386c"
   },
   "outputs": [
    {
     "name": "stdout",
     "output_type": "stream",
     "text": [
      "Vocabulary Size : 2456\n"
     ]
    }
   ],
   "source": [
    "vocab_size = len(tokenizer.word_index) + 1\n",
    "print(\"Vocabulary Size :\", vocab_size)\n",
    "#> Vocabulary Size : 290415"
   ]
  },
  {
   "cell_type": "code",
   "execution_count": 33,
   "metadata": {
    "id": "EqtgKlbxkzlb"
   },
   "outputs": [],
   "source": [
    "from tensorflow.keras.preprocessing.sequence import pad_sequences\n",
    "# The tokens are converted into sequences and then passed to the pad_sequences() function\n",
    "x_train = pad_sequences(tokenizer.texts_to_sequences(train_data.text),maxlen = 30)\n",
    "x_test = pad_sequences(tokenizer.texts_to_sequences(test_data.text),maxlen = 30)"
   ]
  },
  {
   "cell_type": "code",
   "execution_count": 36,
   "metadata": {
    "id": "vToIoGA7k9mE"
   },
   "outputs": [],
   "source": [
    "labels = ['Negative', 'Positive']\n",
    "from sklearn.preprocessing import LabelEncoder\n",
    "encoder = LabelEncoder()\n",
    "encoder.fit(train_data.label.to_list())\n",
    "y_train = encoder.transform(train_data.label.to_list())\n",
    "y_test = encoder.transform(test_data.label.to_list())\n",
    "y_train = y_train.reshape(-1,1)\n",
    "y_test = y_test.reshape(-1,1)"
   ]
  },
  {
   "cell_type": "code",
   "execution_count": 37,
   "metadata": {
    "colab": {
     "base_uri": "https://localhost:8080/"
    },
    "id": "6gpcg2yglNhL",
    "outputId": "9e7c99f6-d55d-476d-f136-1e749d045d68"
   },
   "outputs": [
    {
     "name": "stdout",
     "output_type": "stream",
     "text": [
      "--2023-02-12 07:44:23--  http://nlp.stanford.edu/data/glove.6B.zip\n",
      "Resolving nlp.stanford.edu (nlp.stanford.edu)... 171.64.67.140\n",
      "Connecting to nlp.stanford.edu (nlp.stanford.edu)|171.64.67.140|:80... connected.\n",
      "HTTP request sent, awaiting response... 302 Found\n",
      "Location: https://nlp.stanford.edu/data/glove.6B.zip [following]\n",
      "--2023-02-12 07:44:23--  https://nlp.stanford.edu/data/glove.6B.zip\n",
      "Connecting to nlp.stanford.edu (nlp.stanford.edu)|171.64.67.140|:443... connected.\n",
      "HTTP request sent, awaiting response... 301 Moved Permanently\n",
      "Location: https://downloads.cs.stanford.edu/nlp/data/glove.6B.zip [following]\n",
      "--2023-02-12 07:44:24--  https://downloads.cs.stanford.edu/nlp/data/glove.6B.zip\n",
      "Resolving downloads.cs.stanford.edu (downloads.cs.stanford.edu)... 171.64.64.22\n",
      "Connecting to downloads.cs.stanford.edu (downloads.cs.stanford.edu)|171.64.64.22|:443... connected.\n",
      "HTTP request sent, awaiting response... 200 OK\n",
      "Length: 862182613 (822M) [application/zip]\n",
      "Saving to: ‘glove.6B.zip’\n",
      "\n",
      "glove.6B.zip        100%[===================>] 822.24M  5.02MB/s    in 2m 39s  \n",
      "\n",
      "2023-02-12 07:47:03 (5.18 MB/s) - ‘glove.6B.zip’ saved [862182613/862182613]\n",
      "\n",
      "Archive:  glove.6B.zip\n",
      "  inflating: glove.6B.50d.txt        \n",
      "  inflating: glove.6B.100d.txt       \n",
      "  inflating: glove.6B.200d.txt       \n",
      "  inflating: glove.6B.300d.txt       \n"
     ]
    }
   ],
   "source": [
    "!wget http://nlp.stanford.edu/data/glove.6B.zip\n",
    "!unzip glove.6B.zip"
   ]
  },
  {
   "cell_type": "code",
   "execution_count": 40,
   "metadata": {
    "colab": {
     "base_uri": "https://localhost:8080/"
    },
    "id": "4aC-HIRrmBbE",
    "outputId": "ad4c729c-f993-4c2d-8963-7c77190ddcba"
   },
   "outputs": [
    {
     "name": "stdout",
     "output_type": "stream",
     "text": [
      "Found 400000 word vectors.\n"
     ]
    }
   ],
   "source": [
    "import numpy as np\n",
    "\n",
    "embeddings_index = {}\n",
    "# opening the downloaded glove embeddings file\n",
    "f = open('glove.6B.300d.txt')\n",
    "for line in f:\n",
    "    # For each line file, the words are split and stored in a list\n",
    "    values = line.split()\n",
    "    word = value = values[0]\n",
    "    coefs = np.asarray(values[1:], dtype='float32')\n",
    "    embeddings_index[word] = coefs\n",
    "f.close()\n",
    "print('Found %s word vectors.' %len(embeddings_index))"
   ]
  },
  {
   "cell_type": "code",
   "execution_count": 41,
   "metadata": {
    "id": "syzwCxHRmM7j"
   },
   "outputs": [],
   "source": [
    "# creating an matrix with zeroes of shape vocab x embedding dimension\n",
    "embedding_matrix = np.zeros((vocab_size, 300))\n",
    "# Iterate through word, index in the dictionary\n",
    "for word, i in word_index.items():\n",
    "    # extract the corresponding vector for the vocab indice of same word\n",
    "    embedding_vector = embeddings_index.get(word)\n",
    "    if embedding_vector is not None:\n",
    "        # Storing it in a matrix\n",
    "        embedding_matrix[i] = embedding_vector"
   ]
  },
  {
   "cell_type": "code",
   "execution_count": 42,
   "metadata": {
    "id": "QiXjv1O5mSH-"
   },
   "outputs": [],
   "source": [
    "import tensorflow as tf\n",
    "\n",
    "embedding_layer = tf.keras.layers.Embedding(vocab_size,300,weights=[embedding_matrix],input_length=30,trainable=False)"
   ]
  },
  {
   "cell_type": "code",
   "execution_count": 43,
   "metadata": {
    "id": "PrV0p-C4mUk_"
   },
   "outputs": [],
   "source": [
    "# Import various layers needed for the architecture from keras\n",
    "from tensorflow.keras.layers import Conv1D, Bidirectional, LSTM, Dense, Input, Dropout\n",
    "from tensorflow.keras.layers import SpatialDropout1D\n",
    "from tensorflow.keras.callbacks import ModelCheckpoint\n",
    "# The Input layer \n",
    "sequence_input = Input(shape=(30,), dtype='int32')\n",
    "# Inputs passed to the embedding layer\n",
    "embedding_sequences = embedding_layer(sequence_input)\n",
    "# dropout and conv layer \n",
    "x = SpatialDropout1D(0.2)(embedding_sequences)\n",
    "x = Conv1D(64, 5, activation='relu')(x)\n",
    "# Passed on to the LSTM layer\n",
    "x = Bidirectional(LSTM(64, dropout=0.2, recurrent_dropout=0.2))(x)\n",
    "x = Dense(512, activation='relu')(x)\n",
    "x = Dropout(0.5)(x)\n",
    "x = Dense(512, activation='relu')(x)\n",
    "# Passed on to activation layer to get final output\n",
    "outputs = Dense(1, activation='sigmoid')(x)\n",
    "model = tf.keras.Model(sequence_input, outputs)"
   ]
  },
  {
   "cell_type": "code",
   "execution_count": 45,
   "metadata": {
    "id": "NT1n1miOmfpC"
   },
   "outputs": [],
   "source": [
    "from tensorflow.keras.optimizers import Adam\n",
    "from tensorflow.keras.callbacks import ReduceLROnPlateau\n",
    "model.compile(optimizer=Adam(learning_rate=0.02), loss='binary_crossentropy',metrics=['accuracy'])\n",
    "ReduceLROnPlateau = ReduceLROnPlateau(factor=0.1,min_lr = 0.01, monitor = 'val_loss',verbose = 1)"
   ]
  },
  {
   "cell_type": "code",
   "execution_count": 46,
   "metadata": {
    "colab": {
     "base_uri": "https://localhost:8080/"
    },
    "id": "UnVPYuMNm3o6",
    "outputId": "1c88f59c-7325-4961-9778-105291ff9bac"
   },
   "outputs": [
    {
     "name": "stdout",
     "output_type": "stream",
     "text": [
      "Epoch 1/20\n",
      "1/1 [==============================] - 11s 11s/step - loss: 0.6990 - accuracy: 0.4226 - val_loss: 3.1066 - val_accuracy: 0.5761 - lr: 0.0200\n",
      "Epoch 2/20\n",
      "1/1 [==============================] - 1s 1s/step - loss: 3.1891 - accuracy: 0.5924 - val_loss: 0.6884 - val_accuracy: 0.7065 - lr: 0.0200\n",
      "Epoch 3/20\n",
      "1/1 [==============================] - 1s 999ms/step - loss: 0.8188 - accuracy: 0.6101 - val_loss: 1.8247 - val_accuracy: 0.4239 - lr: 0.0200\n",
      "Epoch 4/20\n",
      "1/1 [==============================] - 1s 1s/step - loss: 1.9369 - accuracy: 0.4076 - val_loss: 0.6929 - val_accuracy: 0.4239 - lr: 0.0200\n",
      "Epoch 5/20\n",
      "1/1 [==============================] - 1s 999ms/step - loss: 0.6685 - accuracy: 0.4253 - val_loss: 0.5967 - val_accuracy: 0.7011 - lr: 0.0200\n",
      "Epoch 6/20\n",
      "1/1 [==============================] - 1s 1s/step - loss: 0.5279 - accuracy: 0.8098 - val_loss: 0.5123 - val_accuracy: 0.7228 - lr: 0.0200\n",
      "Epoch 7/20\n",
      "1/1 [==============================] - 1s 1s/step - loss: 0.3967 - accuracy: 0.8166 - val_loss: 0.4698 - val_accuracy: 0.7880 - lr: 0.0200\n",
      "Epoch 8/20\n",
      "1/1 [==============================] - 2s 2s/step - loss: 0.3430 - accuracy: 0.8424 - val_loss: 0.3741 - val_accuracy: 0.8370 - lr: 0.0200\n",
      "Epoch 9/20\n",
      "1/1 [==============================] - 1s 1s/step - loss: 0.2899 - accuracy: 0.8818 - val_loss: 0.3604 - val_accuracy: 0.8424 - lr: 0.0200\n",
      "Epoch 10/20\n",
      "1/1 [==============================] - 1s 1s/step - loss: 0.2789 - accuracy: 0.8940 - val_loss: 0.3645 - val_accuracy: 0.8641 - lr: 0.0200\n",
      "Epoch 11/20\n",
      "1/1 [==============================] - 1s 1s/step - loss: 0.2464 - accuracy: 0.9076 - val_loss: 0.3943 - val_accuracy: 0.8750 - lr: 0.0200\n",
      "Epoch 12/20\n",
      "1/1 [==============================] - 1s 1s/step - loss: 0.2294 - accuracy: 0.9103 - val_loss: 0.4327 - val_accuracy: 0.8750 - lr: 0.0200\n",
      "Epoch 13/20\n",
      "1/1 [==============================] - 1s 1s/step - loss: 0.2192 - accuracy: 0.9212 - val_loss: 0.4192 - val_accuracy: 0.8641 - lr: 0.0200\n",
      "Epoch 14/20\n",
      "1/1 [==============================] - 1s 1s/step - loss: 0.1978 - accuracy: 0.9334 - val_loss: 0.4258 - val_accuracy: 0.8696 - lr: 0.0200\n",
      "Epoch 15/20\n",
      "1/1 [==============================] - 1s 1s/step - loss: 0.1988 - accuracy: 0.9348 - val_loss: 0.4732 - val_accuracy: 0.8696 - lr: 0.0200\n",
      "Epoch 16/20\n",
      "1/1 [==============================] - 1s 1s/step - loss: 0.1921 - accuracy: 0.9321 - val_loss: 0.5179 - val_accuracy: 0.8696 - lr: 0.0200\n",
      "Epoch 17/20\n",
      "1/1 [==============================] - 1s 1s/step - loss: 0.1898 - accuracy: 0.9348 - val_loss: 0.5206 - val_accuracy: 0.8696 - lr: 0.0200\n",
      "Epoch 18/20\n",
      "1/1 [==============================] - 3s 3s/step - loss: 0.1808 - accuracy: 0.9375 - val_loss: 0.5082 - val_accuracy: 0.8696 - lr: 0.0200\n",
      "Epoch 19/20\n",
      "1/1 [==============================] - ETA: 0s - loss: 0.1634 - accuracy: 0.9416\n",
      "Epoch 19: ReduceLROnPlateau reducing learning rate to 0.01.\n",
      "1/1 [==============================] - 2s 2s/step - loss: 0.1634 - accuracy: 0.9416 - val_loss: 0.5101 - val_accuracy: 0.8696 - lr: 0.0200\n",
      "Epoch 20/20\n",
      "1/1 [==============================] - 1s 1s/step - loss: 0.1800 - accuracy: 0.9457 - val_loss: 0.5146 - val_accuracy: 0.8696 - lr: 0.0100\n"
     ]
    }
   ],
   "source": [
    "training = model.fit(x_train, y_train, batch_size=1024, epochs=20,validation_data=(x_test, y_test), callbacks=[ReduceLROnPlateau])"
   ]
  },
  {
   "cell_type": "code",
   "execution_count": 50,
   "metadata": {
    "colab": {
     "base_uri": "https://localhost:8080/"
    },
    "id": "x7hZE1lVnELj",
    "outputId": "70d86ae6-b8de-43ea-c238-df3562868639"
   },
   "outputs": [
    {
     "name": "stdout",
     "output_type": "stream",
     "text": [
      "1/1 [==============================] - 0s 73ms/step\n"
     ]
    }
   ],
   "source": [
    "def predict_label(score):\n",
    "    return 1 if score>0.5 else 0\n",
    "scores = model.predict(x_test, verbose=1, batch_size=10000)\n",
    "model_predictions = [predict_label(score) for score in scores]"
   ]
  },
  {
   "cell_type": "code",
   "execution_count": 51,
   "metadata": {
    "colab": {
     "base_uri": "https://localhost:8080/"
    },
    "id": "jOehaPV8nK74",
    "outputId": "15772d78-94dc-4dcf-ba09-b056fe013be1"
   },
   "outputs": [
    {
     "name": "stdout",
     "output_type": "stream",
     "text": [
      "              precision    recall  f1-score   support\n",
      "\n",
      "           0       0.83      0.97      0.90       106\n",
      "           1       0.95      0.73      0.83        78\n",
      "\n",
      "    accuracy                           0.87       184\n",
      "   macro avg       0.89      0.85      0.86       184\n",
      "weighted avg       0.88      0.87      0.87       184\n",
      "\n"
     ]
    }
   ],
   "source": [
    "from sklearn.metrics import classification_report\n",
    "print(classification_report(list(test_data.label), model_predictions))"
   ]
  },
  {
   "cell_type": "code",
   "execution_count": 52,
   "metadata": {
    "colab": {
     "base_uri": "https://localhost:8080/"
    },
    "id": "bY4QvIYdndSY",
    "outputId": "7bcb50d1-70c4-4a70-93b4-01855a99f968"
   },
   "outputs": [
    {
     "name": "stdout",
     "output_type": "stream",
     "text": [
      "Keras weights file (<HDF5 file \"variables.h5\" (mode r+)>) saving:\n",
      "...layers\n",
      "......bidirectional\n",
      ".........backward_layer\n",
      "............cell\n",
      "...............vars\n",
      "..................0\n",
      "..................1\n",
      "..................2\n",
      "............vars\n",
      ".........forward_layer\n",
      "............cell\n",
      "...............vars\n",
      "..................0\n",
      "..................1\n",
      "..................2\n",
      "............vars\n",
      ".........layer\n",
      "............cell\n",
      "...............vars\n",
      "............vars\n",
      ".........vars\n",
      "......conv1d\n",
      ".........vars\n",
      "............0\n",
      "............1\n",
      "......dense\n",
      ".........vars\n",
      "............0\n",
      "............1\n",
      "......dense_1\n",
      ".........vars\n",
      "............0\n",
      "............1\n",
      "......dense_2\n",
      ".........vars\n",
      "............0\n",
      "............1\n",
      "......dropout\n",
      ".........vars\n",
      "......embedding\n",
      ".........vars\n",
      "............0\n",
      "......input_layer\n",
      ".........vars\n",
      "......spatial_dropout1d\n",
      ".........vars\n",
      "...metrics\n",
      "......mean\n",
      ".........vars\n",
      "............0\n",
      "............1\n",
      "......mean_metric_wrapper\n",
      ".........vars\n",
      "............0\n",
      "............1\n",
      "...optimizer\n",
      "......vars\n",
      ".........0\n",
      ".........1\n",
      ".........10\n",
      ".........11\n",
      ".........12\n",
      ".........13\n",
      ".........14\n",
      ".........15\n",
      ".........16\n",
      ".........17\n",
      ".........18\n",
      ".........19\n",
      ".........2\n",
      ".........20\n",
      ".........21\n",
      ".........22\n",
      ".........23\n",
      ".........24\n",
      ".........25\n",
      ".........26\n",
      ".........27\n",
      ".........28\n",
      ".........3\n",
      ".........4\n",
      ".........5\n",
      ".........6\n",
      ".........7\n",
      ".........8\n",
      ".........9\n",
      "...vars\n",
      "Keras model archive saving:\n",
      "File Name                                             Modified             Size\n",
      "metadata.json                                  2023-02-12 07:56:25           64\n",
      "variables.h5                                   2023-02-12 07:56:25      8898288\n",
      "config.json                                    2023-02-12 07:56:25         5194\n"
     ]
    }
   ],
   "source": [
    "import pickle\n",
    "\n",
    "file_name = 'cbt-predict.pkl'\n",
    "pickle.dump(model , open(file_name,'wb'))"
   ]
  }
 ],
 "metadata": {
  "colab": {
   "provenance": []
  },
  "kernelspec": {
   "display_name": "Python 3 (ipykernel)",
   "language": "python",
   "name": "python3"
  },
  "language_info": {
   "codemirror_mode": {
    "name": "ipython",
    "version": 3
   },
   "file_extension": ".py",
   "mimetype": "text/x-python",
   "name": "python",
   "nbconvert_exporter": "python",
   "pygments_lexer": "ipython3",
   "version": "3.9.12"
  }
 },
 "nbformat": 4,
 "nbformat_minor": 1
}
